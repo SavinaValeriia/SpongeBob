{
 "cells": [
  {
   "cell_type": "markdown",
   "metadata": {},
   "source": [
    "# Peer-graded Assignment: Эксперименты с моделью\n",
    "\n",
    "На прошлой неделе вы поучаствовали в соревновании на kaggle и, наверняка, большинство успешно справилось с прохождением baseline, а значит пора двигаться дальше - заняться оптимизацией модели, провести серию экспериментов и построить сильное финальное решения.\n",
    "\n",
    "В этом задании вам нужно провести ряд эскпериментов, оценить качество полученных в процессе экспериментирования моделей и выбрать лучшее решение. "
   ]
  },
  {
   "cell_type": "markdown",
   "metadata": {},
   "source": [
    "Задание будет оцениваться на основании загруженного jupyther notebook и развернутых ответов на поставленные вопросы."
   ]
  },
  {
   "cell_type": "markdown",
   "metadata": {},
   "source": [
    "## Инструкции"
   ]
  },
  {
   "cell_type": "markdown",
   "metadata": {},
   "source": [
    "1\\. Начнем с простого. Давайте оценим как много объектов действительно нужно для построения качественной модели. Для обучения доступна достаточно большая выборка и может так оказаться, что начиная с некоторого момента рост размера обучающей выборки перестает влиять на качество модели. Постройте кривые обучения, обучая модель на выборках разного размера начиная с небольшого количество объектов в обучающей выборке и постепенно наращивая её размер с некоторым шагом. Обратите внимание на `sklearn.model_selection.learning_curve`"
   ]
  },
  {
   "cell_type": "code",
   "execution_count": 1,
   "metadata": {
    "collapsed": false
   },
   "outputs": [
    {
     "name": "stderr",
     "output_type": "stream",
     "text": [
      "C:\\Users\\horch\\Anaconda2\\envs\\tensorflow\\lib\\site-packages\\sklearn\\cross_validation.py:44: DeprecationWarning: This module was deprecated in version 0.18 in favor of the model_selection module into which all the refactored classes and functions are moved. Also note that the interface of the new CV iterators are different from that of this module. This module will be removed in 0.20.\n",
      "  \"This module will be removed in 0.20.\", DeprecationWarning)\n",
      "C:\\Users\\horch\\Anaconda2\\envs\\tensorflow\\lib\\site-packages\\sklearn\\grid_search.py:43: DeprecationWarning: This module was deprecated in version 0.18 in favor of the model_selection module into which all the refactored classes and functions are moved. This module will be removed in 0.20.\n",
      "  DeprecationWarning)\n"
     ]
    }
   ],
   "source": [
    "import numpy as np\n",
    "import pandas as pd\n",
    "\n",
    "from sklearn.ensemble import GradientBoostingClassifier, RandomForestClassifier, ExtraTreesClassifier\n",
    "from sklearn.cross_validation import train_test_split, cross_val_score, StratifiedKFold\n",
    "from sklearn.model_selection import learning_curve\n",
    "from sklearn.metrics import roc_auc_score, average_precision_score, recall_score, precision_score, f1_score\n",
    "from matplotlib import pyplot as plt\n",
    "from sklearn.feature_extraction import DictVectorizer as DV\n",
    "from sklearn.preprocessing import LabelEncoder\n",
    "from sklearn.svm import LinearSVC\n",
    "from sklearn.feature_selection import SelectFromModel\n",
    "from sklearn.grid_search import GridSearchCV\n",
    "\n",
    "%matplotlib inline"
   ]
  },
  {
   "cell_type": "code",
   "execution_count": 2,
   "metadata": {
    "collapsed": true
   },
   "outputs": [],
   "source": [
    "# загружаем данные\n",
    "data = pd.read_csv('C:\\\\Users\\\\horch\\\\Desktop\\\\Local_data\\\\orange_small_churn_train_data.csv', sep = ',')\n",
    "data.drop('ID', axis = 1, inplace = True)      "
   ]
  },
  {
   "cell_type": "code",
   "execution_count": 3,
   "metadata": {
    "collapsed": true
   },
   "outputs": [],
   "source": [
    "# Обрабатываем данные для модели\n",
    "empty_cols = data.columns[np.where(data.count() == 0)]\n",
    "for cols in empty_cols:\n",
    "    data.drop(cols, axis =1, inplace = True)\n",
    "         \n",
    "cat_features = data.iloc[:, 174:]\n",
    "num_features = data.drop(cat_features, axis = 1)"
   ]
  },
  {
   "cell_type": "code",
   "execution_count": 4,
   "metadata": {
    "collapsed": false
   },
   "outputs": [],
   "source": [
    "newfeature = cat_features.columns+'_n'\n",
    "for i in range(len(cat_features.columns)-1):\n",
    "    cat_features[newfeature[i]] = cat_features[cat_features.columns[i]].map(cat_features.groupby(cat_features.columns[i]).size())\n",
    "encoding_cat_data = cat_features.iloc[:,39:]\n",
    "data_new = pd.concat([num_features,encoding_cat_data], axis = 1)\n",
    "\n",
    "data_mean = data_new[data_new.columns[0]].fillna(data_new.mean(axis=0)[0])\n",
    "for i in range(len(data_new.columns)-1):\n",
    "    data_mean = np.vstack((data_mean,data_new[data_new.columns[i+1]].fillna(data_new.mean(axis=0)[i+1]))) \n",
    "data_new_mean = pd.DataFrame(data_mean.transpose(),columns=data_new.columns)\n",
    "data_new_mean['labels'] = data['labels']"
   ]
  },
  {
   "cell_type": "code",
   "execution_count": 5,
   "metadata": {
    "collapsed": true
   },
   "outputs": [],
   "source": [
    "# функция для построения графиков кривых обучения\n",
    "def plot_learning_curve(estimator, title, X, y, ylim=None, cv=None,\n",
    "                        n_jobs=1, train_sizes=np.linspace(.1, 1.0, 5)):\n",
    "    plt.figure()\n",
    "    plt.title(title)\n",
    "    if ylim is not None:\n",
    "        plt.ylim(*ylim)\n",
    "    plt.xlabel(\"Training examples\")\n",
    "    plt.ylabel(\"Score\")\n",
    "    train_sizes, train_scores, test_scores = learning_curve(\n",
    "        estimator, X, y, cv=cv, n_jobs=n_jobs, train_sizes=train_sizes,  scoring='roc_auc')\n",
    "    train_scores_mean = np.mean(train_scores, axis=1)\n",
    "    train_scores_std = np.std(train_scores, axis=1)\n",
    "    test_scores_mean = np.mean(test_scores, axis=1)\n",
    "    test_scores_std = np.std(test_scores, axis=1)\n",
    "    plt.grid()\n",
    "\n",
    "    plt.fill_between(train_sizes, train_scores_mean - train_scores_std,\n",
    "                     train_scores_mean + train_scores_std, alpha=0.1,\n",
    "                     color=\"r\")\n",
    "    plt.fill_between(train_sizes, test_scores_mean - test_scores_std,\n",
    "                     test_scores_mean + test_scores_std, alpha=0.1, color=\"g\")\n",
    "    plt.plot(train_sizes, train_scores_mean, 'o-', color=\"r\",\n",
    "             label=\"Training score\")\n",
    "    plt.plot(train_sizes, test_scores_mean, 'o-', color=\"g\",\n",
    "             label=\"Cross-validation score\")\n",
    "\n",
    "    plt.legend(loc=\"best\")\n",
    "    return plt"
   ]
  },
  {
   "cell_type": "code",
   "execution_count": 6,
   "metadata": {
    "collapsed": false
   },
   "outputs": [
    {
     "data": {
      "image/png": "[encoded data removed]",
      "text/plain": [
       "<matplotlib.figure.Figure at 0x105a55f8>"
      ]
     },
     "metadata": {},
     "output_type": "display_data"
    }
   ],
   "source": [
    "# строим кривые обучения для градиентного бустинга\n",
    "X = data_new_mean.drop('labels', axis =1)\n",
    "y = data['labels']\n",
    "\n",
    "title = \"Learning Curves (Gradient Boosting)\"\n",
    "estimator = GradientBoostingClassifier(random_state=42)\n",
    "cv = StratifiedKFold(y, n_folds=10, shuffle=True, random_state=42)\n",
    "plot_learning_curve(estimator, title, X, y, ylim=(0.7, 1.01), cv=cv, n_jobs=4)\n",
    "plt.show()"
   ]
  },
  {
   "cell_type": "markdown",
   "metadata": {},
   "source": [
    "### Вывод"
   ]
  },
  {
   "cell_type": "markdown",
   "metadata": {},
   "source": [
    "Как видно из графиков, качество модели на кросс-валидации растет логарифмически с увеличением количества обучающих объектов примерно до 0.72-0.73 (после 20 тыс. объектов), а затем значительное увеличение качества не происходит. Таким образом, для построения модели достаточно около 20 тыс. объектов. "
   ]
  },
  {
   "cell_type": "markdown",
   "metadata": {},
   "source": [
    "2\\. Часто несбалансированные по классам выборки приводят к различным проблемам при обучении моделей. Давайте попробуем по-разному обработать выборку, поиграть с распределением объектов по классам и сделать выводы о том, как соотношение классов влияет на качество модели."
   ]
  },
  {
   "cell_type": "markdown",
   "metadata": {},
   "source": [
    "2.1\\. Задайте веса объектам так, чтобы соотношение классов с учетом весов объектов изменилось. Попробуйте не менее трёх различных вариантов весов. Меняются ли результаты классификации? Как это сказывается на качестве модели? Какой вариант выглядит наиболее оптимальным с точки зрения качества?"
   ]
  },
  {
   "cell_type": "code",
   "execution_count": 3,
   "metadata": {
    "collapsed": false
   },
   "outputs": [
    {
     "name": "stdout",
     "output_type": "stream",
     "text": [
      "доля оттока =  0.0744\n",
      "доля не оттока =  0.9256\n"
     ]
    }
   ],
   "source": [
    "churn = data[data['labels'] == 1] # формируем класс отток\n",
    "non_churn = data[data['labels'] == -1]   # формируем класс не отток\n",
    "\n",
    "churn_share = len(churn)/float(data.shape[0])\n",
    "non_churn_share = 1-churn_share\n",
    "print (\"доля оттока = \", churn_share)\n",
    "print (\"доля не оттока = \", non_churn_share)"
   ]
  },
  {
   "cell_type": "markdown",
   "metadata": {
    "collapsed": true
   },
   "source": [
    "Т.к. в классификаторе GradientBoostingClassifier нет параметра для выбора соотношения весов (параметр class_weight), то попробуем применить другой классификатор, например, RandomForestClassifier."
   ]
  },
  {
   "cell_type": "code",
   "execution_count": 9,
   "metadata": {
    "collapsed": true
   },
   "outputs": [],
   "source": [
    "X_train, X_test, y_train, y_test = train_test_split(X, y, test_size=0.3, random_state=42)\n",
    "cv = StratifiedKFold(y_train, n_folds=10, shuffle=True, random_state=42)"
   ]
  },
  {
   "cell_type": "code",
   "execution_count": 10,
   "metadata": {
    "collapsed": false
   },
   "outputs": [
    {
     "name": "stdout",
     "output_type": "stream",
     "text": [
      "ROC_AUC на обучении= 0.596698455429\n",
      "ROC_AUC на тесте= 0.500535678692\n"
     ]
    }
   ],
   "source": [
    "# модель без балансировки классов\n",
    "rf_classifier = RandomForestClassifier(random_state = 42)\n",
    "rf_classifier.fit(X_train, y_train)\n",
    "\n",
    "# оценка по основной метрике - ROC_AUC \n",
    "print (\"ROC_AUC на обучении=\", cross_val_score(rf_classifier, X_train, y_train, scoring = 'roc_auc', cv=cv, n_jobs=-1).mean())\n",
    "print (\"ROC_AUC на тесте=\", roc_auc_score(y_test,rf_classifier.predict(X_test)))"
   ]
  },
  {
   "cell_type": "code",
   "execution_count": 13,
   "metadata": {
    "collapsed": false
   },
   "outputs": [
    {
     "name": "stdout",
     "output_type": "stream",
     "text": [
      "ROC_AUC на обучении= 0.601115027836\n",
      "ROC_AUC на тесте= 0.500671155571\n"
     ]
    }
   ],
   "source": [
    "# автоматическая балансировка весов\n",
    "rf_classifier = RandomForestClassifier(random_state = 42, class_weight='balanced')\n",
    "rf_classifier.fit(X_train, y_train)\n",
    "# оценка по основной метрике - ROC_AUC \n",
    "print (\"ROC_AUC на обучении=\", cross_val_score(rf_classifier, X_train, y_train, scoring = 'roc_auc', cv=cv, n_jobs=-1).mean())\n",
    "print (\"ROC_AUC на тесте=\", roc_auc_score(y_test,rf_classifier.predict(X_test)))"
   ]
  },
  {
   "cell_type": "code",
   "execution_count": 14,
   "metadata": {
    "collapsed": false
   },
   "outputs": [
    {
     "name": "stdout",
     "output_type": "stream",
     "text": [
      "ROC_AUC на обучении= 0.599730494368\n",
      "ROC_AUC на тесте= 0.503319962129\n"
     ]
    }
   ],
   "source": [
    "# уменьшаем класс неотток (-1) до 60%, а класс отток (1) увеличиваем до 40%\n",
    "rf_classifier = RandomForestClassifier(random_state = 42, class_weight={-1:0.6, 1:0.4})\n",
    "rf_classifier.fit(X_train, y_train)\n",
    "# оценка по основной метрике - ROC_AUC \n",
    "print (\"ROC_AUC на обучении=\", cross_val_score(rf_classifier, X_train, y_train, scoring = 'roc_auc', cv=cv, n_jobs=-1).mean())\n",
    "print (\"ROC_AUC на тесте=\", roc_auc_score(y_test,rf_classifier.predict(X_test)))"
   ]
  },
  {
   "cell_type": "code",
   "execution_count": 15,
   "metadata": {
    "collapsed": false
   },
   "outputs": [
    {
     "name": "stdout",
     "output_type": "stream",
     "text": [
      "ROC_AUC на обучении= 0.604482978754\n",
      "ROC_AUC на тесте= 0.500312998306\n"
     ]
    }
   ],
   "source": [
    "# уменьшаем класс неотток (-1) до 30%, а класс отток (1) увеличиваем до 70%\n",
    "rf_classifier = RandomForestClassifier(random_state = 42, class_weight={-1:0.3, 1:0.7})\n",
    "rf_classifier.fit(X_train, y_train)\n",
    "# оценка по основной метрике - ROC_AUC \n",
    "print (\"ROC_AUC на обучении=\", cross_val_score(rf_classifier, X_train, y_train, scoring = 'roc_auc', cv=cv, n_jobs=-1).mean())\n",
    "print (\"ROC_AUC на тесте=\", roc_auc_score(y_test,rf_classifier.predict(X_test)))"
   ]
  },
  {
   "cell_type": "code",
   "execution_count": 18,
   "metadata": {
    "collapsed": false
   },
   "outputs": [
    {
     "name": "stdout",
     "output_type": "stream",
     "text": [
      "ROC_AUC на обучении= 0.60217511593\n",
      "ROC_AUC на тесте= 0.501209948675\n"
     ]
    }
   ],
   "source": [
    "# уменьшаем класс неотток (-1) до 5%, а класс отток (1) увеличиваем до 95%\n",
    "rf_classifier = RandomForestClassifier(random_state = 42, class_weight={-1:0.05, 1:0.95})\n",
    "rf_classifier.fit(X_train, y_train)\n",
    "# оценка по основной метрике - ROC_AUC \n",
    "print (\"ROC_AUC на обучении=\", cross_val_score(rf_classifier, X_train, y_train, scoring = 'roc_auc', cv=cv, n_jobs=-1).mean())\n",
    "print (\"ROC_AUC на тесте=\", roc_auc_score(y_test,rf_classifier.predict(X_test)))"
   ]
  },
  {
   "cell_type": "markdown",
   "metadata": {},
   "source": [
    "### Вывод"
   ]
  },
  {
   "cell_type": "markdown",
   "metadata": {},
   "source": [
    "Балансировка весов через параметр модели позволяет улучшить качество классификации в случае, когда веса превалирующего класса уменьшаются до 30%."
   ]
  },
  {
   "cell_type": "markdown",
   "metadata": {},
   "source": [
    "2.2\\. Примените к выборке технологию undersampling: для этого нужно убрать из обучения некоторое количество объектов большего класса таким образом, чтобы соотношение классов изменилось. Попробуйте не менее трёх различных вариантов undersampling (варианты могут отличаться как по количество отфильтрованных объектов, так и по принципу выборка объектов для отсеивания из выборки). Меняются ли результаты классификации? Как это сказывается на качестве модели? Какой вариант выглядит наиболее оптимальным с точки зрения качества?"
   ]
  },
  {
   "cell_type": "code",
   "execution_count": 38,
   "metadata": {
    "collapsed": false
   },
   "outputs": [
    {
     "name": "stdout",
     "output_type": "stream",
     "text": [
      "доля оттока =  0.5\n",
      "доля не оттока =  0.5\n"
     ]
    }
   ],
   "source": [
    "# формируем набор сэмплированных данных \n",
    "np.random.seed(42)\n",
    "sample_size = len(churn)\n",
    "non_churn_indices = non_churn.index\n",
    "random_indices = np.random.choice(non_churn_indices, sample_size, replace=False) # 1й вариант выбора индексов\n",
    "non_churn_sample = data_new_mean.loc[random_indices]\n",
    "churn_sample = data_new_mean[data_new_mean['labels']==1]\n",
    "# формируем выборку со сбалансированными классами \n",
    "merged_sample = pd.concat([churn_sample, non_churn_sample], ignore_index=True)\n",
    "\n",
    "#проверяем баланс классов после undersampling'a\n",
    "churn_undsmpl = merged_sample[merged_sample['labels'] == 1]\n",
    "non_churn_undsmpl = merged_sample[merged_sample['labels'] == -1]\n",
    "churn_undsmpl_share = len(churn_undsmpl)/float(merged_sample.shape[0])\n",
    "non_churn_undsmpl_share = 1-churn_undsmpl_share\n",
    "print (\"доля оттока = \", churn_undsmpl_share)\n",
    "print (\"доля не оттока = \", non_churn_undsmpl_share)"
   ]
  },
  {
   "cell_type": "code",
   "execution_count": 122,
   "metadata": {
    "collapsed": false
   },
   "outputs": [
    {
     "name": "stdout",
     "output_type": "stream",
     "text": [
      "доля оттока =  0.3333333333333333\n",
      "доля не оттока =  0.6666666666666667\n"
     ]
    }
   ],
   "source": [
    "# 2й вариант выбора индексов (меняем количество отфильтрованных объектов)\n",
    "np.random.seed(42)\n",
    "random_indices = np.random.choice(non_churn_indices, int(len(churn)/0.5), replace=False)\n",
    "non_churn_sample_2 = data_new_mean.loc[random_indices]\n",
    "merged_sample_2 = pd.concat([churn_sample, non_churn_sample_2], ignore_index=True)\n",
    "\n",
    "churn_undsmpl_2 = merged_sample_2[merged_sample_2['labels'] == 1]\n",
    "non_churn_undsmpl_2 = merged_sample_2[merged_sample_2['labels'] == -1]\n",
    "churn_undsmpl_share_2 = len(churn_undsmpl_2)/float(merged_sample_2.shape[0])\n",
    "non_churn_undsmpl_share_2 = 1-churn_undsmpl_share_2\n",
    "print (\"доля оттока = \", churn_undsmpl_share_2)\n",
    "print (\"доля не оттока = \", non_churn_undsmpl_share_2)"
   ]
  },
  {
   "cell_type": "code",
   "execution_count": 168,
   "metadata": {
    "collapsed": false
   },
   "outputs": [
    {
     "name": "stdout",
     "output_type": "stream",
     "text": [
      "доля оттока =  0.3893249607535322\n",
      "доля не оттока =  0.6106750392464678\n"
     ]
    }
   ],
   "source": [
    "# 3й вариант (меняем принцип выбора объектов)\n",
    "np.random.seed(42)\n",
    "random_indices = [int(i) for i in np.random.uniform(0, 40000, 5000) if int(i) in non_churn_indices]\n",
    "non_churn_sample_3 = data_new_mean.loc[random_indices]\n",
    "merged_sample_3 = pd.concat([churn_sample, non_churn_sample_3], ignore_index=True)\n",
    "\n",
    "churn_undsmpl_3 = merged_sample_3[merged_sample_3['labels'] == 1]\n",
    "non_churn_undsmpl_3 = merged_sample_3[merged_sample_3['labels'] == -1]\n",
    "churn_undsmpl_share_3 = len(churn_undsmpl_3)/float(merged_sample_3.shape[0])\n",
    "non_churn_undsmpl_share_3 = 1-churn_undsmpl_share_3\n",
    "print (\"доля оттока = \", churn_undsmpl_share_3)\n",
    "print (\"доля не оттока = \", non_churn_undsmpl_share_3)"
   ]
  },
  {
   "cell_type": "code",
   "execution_count": 100,
   "metadata": {
    "collapsed": false
   },
   "outputs": [
    {
     "name": "stdout",
     "output_type": "stream",
     "text": [
      "ROC_AUC на обучении= 0.723462871012\n",
      "ROC_AUC на тесте= 0.67392980183\n"
     ]
    }
   ],
   "source": [
    "# проверяем качество первой модели\n",
    "X = merged_sample.drop('labels', axis =1)\n",
    "y = merged_sample['labels']\n",
    "X_train, X_test, y_train, y_test = train_test_split(X, y, test_size=0.3, random_state=42)\n",
    "cv = StratifiedKFold(y_train, n_folds=10, shuffle=True, random_state=42)\n",
    "# Градиентный бустинг \n",
    "gb_classifier = GradientBoostingClassifier(random_state=42)\n",
    "gb_classifier.fit(X_train, y_train)\n",
    "# оценка по основной метрике - ROC_AUC \n",
    "print (\"ROC_AUC на обучении=\", cross_val_score(gb_classifier, X_train, y_train, scoring = 'roc_auc', cv=cv, n_jobs=-1).mean())\n",
    "print (\"ROC_AUC на тесте=\", roc_auc_score(y_test,gb_classifier.predict(X_test)))"
   ]
  },
  {
   "cell_type": "code",
   "execution_count": 101,
   "metadata": {
    "collapsed": false
   },
   "outputs": [
    {
     "name": "stdout",
     "output_type": "stream",
     "text": [
      "ROC_AUC на обучении= 0.718395047477\n",
      "ROC_AUC на тесте= 0.620118239091\n"
     ]
    }
   ],
   "source": [
    "# проверяем качество второй модели\n",
    "X = merged_sample_2.drop('labels', axis =1)\n",
    "y = merged_sample_2['labels']\n",
    "X_train, X_test, y_train, y_test = train_test_split(X, y, test_size=0.3, random_state=42)\n",
    "\n",
    "# Градиентный бустинг \n",
    "gb_classifier = GradientBoostingClassifier(random_state=42)\n",
    "gb_classifier.fit(X_train, y_train)\n",
    "# оценка по основной метрике - ROC_AUC \n",
    "print (\"ROC_AUC на обучении=\", cross_val_score(gb_classifier, X_train, y_train, scoring = 'roc_auc', cv=cv, n_jobs=-1).mean())\n",
    "print (\"ROC_AUC на тесте=\", roc_auc_score(y_test,gb_classifier.predict(X_test)))"
   ]
  },
  {
   "cell_type": "code",
   "execution_count": 171,
   "metadata": {
    "collapsed": false
   },
   "outputs": [
    {
     "name": "stdout",
     "output_type": "stream",
     "text": [
      "ROC_AUC на обучении= 0.729315857604\n",
      "ROC_AUC на тесте= 0.649092004326\n"
     ]
    }
   ],
   "source": [
    "# проверяем качество третьей модели\n",
    "X = merged_sample_3.drop('labels', axis =1)\n",
    "y = merged_sample_3['labels']\n",
    "X_train, X_test, y_train, y_test = train_test_split(X, y, test_size=0.3, random_state=42)\n",
    "\n",
    "# Градиентный бустинг \n",
    "gb_classifier = GradientBoostingClassifier(random_state=42)\n",
    "gb_classifier.fit(X_train, y_train)\n",
    "# оценка по основной метрике - ROC_AUC \n",
    "print (\"ROC_AUC на обучении=\", cross_val_score(gb_classifier, X_train, y_train, scoring = 'roc_auc', cv=cv, n_jobs=-1).mean())\n",
    "print (\"ROC_AUC на тесте=\", roc_auc_score(y_test,gb_classifier.predict(X_test)))"
   ]
  },
  {
   "cell_type": "markdown",
   "metadata": {},
   "source": [
    "### Вывод"
   ]
  },
  {
   "cell_type": "markdown",
   "metadata": {},
   "source": [
    "Результаты классификации меняются в зависимости от способов балансировки классов. Наилучший результат был получен в случае, когда индексы большего класса сэмплировались из равномерного распределения в количестве 4668 объектов. При этом, баланс классов оставался несколько смещен в сторону большего класса. При этом, наилучший результат на тестовой выборке показала балансировка классов, с равенством доли большего и меньшего классов (первый вариант)."
   ]
  },
  {
   "cell_type": "markdown",
   "metadata": {},
   "source": [
    "3\\. Теперь перейдем к работе с признаками. Ранее вы реализовали несколько стратегий для обработки пропущенных значений. Сравните эти стратегии между собой с помощью оценки качества моделей кросс-валидации, построенных на датасетах с использованием различных стратегий. Как обработка пропущенных значений сказывается на качестве модели? Какой вариант выглядит наиболее оптимальным с точки зрения качества?"
   ]
  },
  {
   "cell_type": "markdown",
   "metadata": {
    "collapsed": true
   },
   "source": [
    "Первый способ обработки пропущенных значений был - заполнение их средними по столбцам (работаем с вещественными и закодированными категориальными данными). Далее попробуем заполнить их 0 и медианами "
   ]
  },
  {
   "cell_type": "code",
   "execution_count": 180,
   "metadata": {
    "collapsed": false
   },
   "outputs": [
    {
     "name": "stdout",
     "output_type": "stream",
     "text": [
      "ROC_AUC на обучении= 0.712237717463\n",
      "ROC_AUC на тесте= 0.507630306956\n"
     ]
    }
   ],
   "source": [
    "# замена пропущенных значений на средние по столбцам\n",
    "X = data_new_mean.drop('labels', axis =1)\n",
    "y = data['labels']\n",
    "X_train, X_test, y_train, y_test = train_test_split(X, y, test_size=0.3, random_state=42)\n",
    "\n",
    "gb_classifier = GradientBoostingClassifier(random_state=42)\n",
    "gb_classifier.fit(X_train, y_train)\n",
    "# оценка по основной метрике - ROC_AUC \n",
    "print (\"ROC_AUC на обучении=\", cross_val_score(gb_classifier, X_train, y_train, scoring = 'roc_auc', cv=cv, n_jobs=-1).mean())\n",
    "print (\"ROC_AUC на тесте=\", roc_auc_score(y_test,gb_classifier.predict(X_test)))"
   ]
  },
  {
   "cell_type": "code",
   "execution_count": 177,
   "metadata": {
    "collapsed": false
   },
   "outputs": [
    {
     "name": "stdout",
     "output_type": "stream",
     "text": [
      "ROC_AUC на обучении= 0.714789827253\n",
      "ROC_AUC на тесте= 0.507046354893\n"
     ]
    }
   ],
   "source": [
    "# замена пропущенных значений на 0\n",
    "data_zeros = pd.concat([num_features,encoding_cat_data], axis = 1).fillna(0)\n",
    "data_zeros['labels'] = data['labels']\n",
    "\n",
    "X = data_zeros.drop('labels', axis =1)\n",
    "y = data_zeros['labels']\n",
    "X_train, X_test, y_train, y_test = train_test_split(X, y, test_size=0.3, random_state=42)\n",
    "\n",
    "gb_classifier = GradientBoostingClassifier(random_state=42)\n",
    "gb_classifier.fit(X_train, y_train)\n",
    "# оценка по основной метрике - ROC_AUC \n",
    "print (\"ROC_AUC на обучении=\", cross_val_score(gb_classifier, X_train, y_train, scoring = 'roc_auc', cv=cv, n_jobs=-1).mean())\n",
    "print (\"ROC_AUC на тесте=\", roc_auc_score(y_test,gb_classifier.predict(X_test)))"
   ]
  },
  {
   "cell_type": "code",
   "execution_count": 178,
   "metadata": {
    "collapsed": true
   },
   "outputs": [],
   "source": [
    "# замена пропущенных значений на медианы по столбцам\n",
    "data_median = data_new[data_new.columns[0]].fillna(data_new.median(axis=0)[0])\n",
    "for i in range(len(data_new.columns)-1):\n",
    "    data_median = np.vstack((data_median,data_new[data_new.columns[i+1]].fillna(data_new.median(axis=0)[i+1]))) \n",
    "data_new_median = pd.DataFrame(data_median.transpose(),columns=data_new.columns)\n",
    "data_new_median['labels'] = data['labels']"
   ]
  },
  {
   "cell_type": "code",
   "execution_count": 179,
   "metadata": {
    "collapsed": false
   },
   "outputs": [
    {
     "name": "stdout",
     "output_type": "stream",
     "text": [
      "ROC_AUC на обучении= 0.714789827253\n",
      "ROC_AUC на тесте= 0.507046354893\n"
     ]
    }
   ],
   "source": [
    "X = data_new_median.drop('labels', axis =1)\n",
    "y = data_new_median['labels']\n",
    "X_train, X_test, y_train, y_test = train_test_split(X, y, test_size=0.3, random_state=42)\n",
    "\n",
    "gb_classifier = GradientBoostingClassifier(random_state=42)\n",
    "gb_classifier.fit(X_train, y_train)\n",
    "# оценка по основной метрике - ROC_AUC \n",
    "print (\"ROC_AUC на обучении=\", cross_val_score(gb_classifier, X_train, y_train, scoring = 'roc_auc', cv=cv, n_jobs=-1).mean())\n",
    "print (\"ROC_AUC на тесте=\", roc_auc_score(y_test,gb_classifier.predict(X_test)))"
   ]
  },
  {
   "cell_type": "markdown",
   "metadata": {},
   "source": [
    "### Вывод"
   ]
  },
  {
   "cell_type": "markdown",
   "metadata": {},
   "source": [
    "Наиболее оптимистичными по качеству на обучающих данных оказались стратегии заполнения пропущенных значений нулями и медианами. Однако, на тестовых данных лучший результат оказался при заполнении средними."
   ]
  },
  {
   "cell_type": "markdown",
   "metadata": {},
   "source": [
    "4\\. Также вы уже реализовали несколько стратегий для обработки категориальных признаков. Сравните эти стратегии между собой с помощью оценки качества моделей по кросс-валидации, построенных на датасетах с использованием различных стратегий. Как обработка категориальных признаков сказывается на качестве модели? Какой вариант выглядит наиболее оптимальным с точки зрения качества?"
   ]
  },
  {
   "cell_type": "markdown",
   "metadata": {
    "collapsed": true
   },
   "source": [
    "В первом варианте категориальные данные кодировались заменой каждой категории числом входящих в неё объектов (пропущенные значения обрабатывались по той же стратегии, что и вещественные). Далее попробуем другие принципы кодирования: \n",
    "2. Заменим пропущенные категориальные значения на 'Nan', приведем к строковому типу, отбросим признаки, у которых более 1000 уникальных значений и применим DictVectorizer\n",
    "3. Заменим пропущенные категориальные значения на 'Nan' и применим LabelEncoder"
   ]
  },
  {
   "cell_type": "code",
   "execution_count": 11,
   "metadata": {
    "collapsed": false
   },
   "outputs": [
    {
     "data": {
      "text/plain": [
       "(40000, 1185)"
      ]
     },
     "execution_count": 11,
     "metadata": {},
     "output_type": "execute_result"
    }
   ],
   "source": [
    "# 2й вариант (с DictVectorizer) \n",
    "cat_features = data.iloc[:, 174:].fillna('NA').applymap(str)\n",
    "# список признаков, количество уникальных значений которых меньше 1000\n",
    "features_to_encode = []\n",
    "for f in cat_features.columns:\n",
    "    if len(np.unique(cat_features[f])) <1000:\n",
    "        features_to_encode.append(f)\n",
    "cat_features_to_encode = cat_features[features_to_encode].drop('labels', axis = 1)\n",
    "\n",
    "encoder = DV(sparse = False)\n",
    "encoder.fit(cat_features_to_encode.T.to_dict().values())\n",
    "encoded_cat_features = encoder.transform(cat_features_to_encode.T.to_dict().values())\n",
    "\n",
    "num_features_mean = num_features[num_features.columns[0]].fillna(num_features.mean(axis=0)[0])\n",
    "for i in range(len(num_features.columns)-1):\n",
    "    num_features_mean = np.vstack((num_features_mean,num_features[num_features.columns[i+1]].fillna(num_features.mean(axis=0)[i+1])))\n",
    "num_features_new_mean = pd.DataFrame(num_features_mean.transpose(),columns=num_features.columns)\n",
    "\n",
    "data_new = pd.concat([num_features_new_mean,pd.DataFrame(encoded_cat_features)], axis = 1)\n",
    "data_new['labels'] = data['labels']\n",
    "data_new.shape"
   ]
  },
  {
   "cell_type": "code",
   "execution_count": 216,
   "metadata": {
    "collapsed": false
   },
   "outputs": [
    {
     "name": "stdout",
     "output_type": "stream",
     "text": [
      "ROC_AUC на обучении= 0.707417510935\n",
      "ROC_AUC на тесте= 0.508304576938\n"
     ]
    }
   ],
   "source": [
    "X = data_new.drop('labels', axis =1)\n",
    "y = data_new['labels']\n",
    "X_train, X_test, y_train, y_test = train_test_split(X, y, test_size=0.3, random_state=42)\n",
    "\n",
    "gb_classifier = GradientBoostingClassifier(random_state=42)\n",
    "gb_classifier.fit(X_train, y_train)\n",
    "# оценка по основной метрике - ROC_AUC \n",
    "print (\"ROC_AUC на обучении=\", cross_val_score(gb_classifier, X_train, y_train, scoring = 'roc_auc', cv=cv, n_jobs=-1).mean())\n",
    "print (\"ROC_AUC на тесте=\", roc_auc_score(y_test,gb_classifier.predict(X_test)))"
   ]
  },
  {
   "cell_type": "code",
   "execution_count": 243,
   "metadata": {
    "collapsed": false
   },
   "outputs": [
    {
     "data": {
      "text/plain": [
       "(40000, 204)"
      ]
     },
     "execution_count": 243,
     "metadata": {},
     "output_type": "execute_result"
    }
   ],
   "source": [
    "# 3й вариант (LabelEncoder)\n",
    "encoder = LabelEncoder()\n",
    "encoder.fit(np.unique(cat_features_to_encode.as_matrix()))\n",
    "encoded_cat_features = pd.DataFrame([encoder.transform(i) for i in cat_features_to_encode.values])\n",
    "\n",
    "\n",
    "num_features_mean = num_features[num_features.columns[0]].fillna(num_features.mean(axis=0)[0])\n",
    "for i in range(len(num_features.columns)-1):\n",
    "    num_features_mean = np.vstack((num_features_mean,num_features[num_features.columns[i+1]].fillna(num_features.mean(axis=0)[i+1])))\n",
    "num_features_new_mean = pd.DataFrame(num_features_mean.transpose(),columns=num_features.columns)\n",
    "\n",
    "data_new = pd.concat([num_features_new_mean,pd.DataFrame(encoded_cat_features)], axis = 1)\n",
    "data_new['labels'] = data['labels']\n",
    "data_new.shape"
   ]
  },
  {
   "cell_type": "code",
   "execution_count": 244,
   "metadata": {
    "collapsed": false
   },
   "outputs": [
    {
     "name": "stdout",
     "output_type": "stream",
     "text": [
      "ROC_AUC на обучении= 0.693612418208\n",
      "ROC_AUC на тесте= 0.505071818318\n"
     ]
    }
   ],
   "source": [
    "X = data_new.drop('labels', axis =1)\n",
    "y = data_new['labels']\n",
    "X_train, X_test, y_train, y_test = train_test_split(X, y, test_size=0.3, random_state=42)\n",
    "\n",
    "gb_classifier = GradientBoostingClassifier(random_state=42)\n",
    "gb_classifier.fit(X_train, y_train)\n",
    "# оценка по основной метрике - ROC_AUC \n",
    "print (\"ROC_AUC на обучении=\", cross_val_score(gb_classifier, X_train, y_train, scoring = 'roc_auc', cv=cv, n_jobs=-1).mean())\n",
    "print (\"ROC_AUC на тесте=\", roc_auc_score(y_test,gb_classifier.predict(X_test)))"
   ]
  },
  {
   "cell_type": "markdown",
   "metadata": {},
   "source": [
    "### Вывод"
   ]
  },
  {
   "cell_type": "markdown",
   "metadata": {},
   "source": [
    "Наилучший результат по качеству на обучении и тесте показал первый вариант, когда категориальные данные кодировались заменой каждой категории числом входящих в неё объектов"
   ]
  },
  {
   "cell_type": "markdown",
   "metadata": {},
   "source": [
    "5\\. Все ли признаки оказались полезными для построения моделей? Проведите процедуру отбора признаков, попробуйте разные варианты отбора (обратите внимание на модуль `sklearn.feature_selection`). Например, можно выбрасывать случайные признаки или строить отбор на основе l1-регуляризации - отфильтровать из обучения признаки, которые получат нулевой вес при построении регрессии с l1-регуляризацией (`sklearn.linear_model.Lasso`). И всегда можно придумать что-то своё=) Попробуйте как минимум 2 различные стратегии, сравните результаты. Помог ли отбор признаков улучшить качество модели? Поясните свой ответ."
   ]
  },
  {
   "cell_type": "code",
   "execution_count": 16,
   "metadata": {
    "collapsed": false
   },
   "outputs": [
    {
     "name": "stdout",
     "output_type": "stream",
     "text": [
      "ROC_AUC на обучении= 0.736774447657\n",
      "ROC_AUC на тесте= 0.508304576938\n"
     ]
    }
   ],
   "source": [
    "X = data_new_mean.drop('labels', axis =1)\n",
    "y = data['labels']\n",
    "\n",
    "# 1я стратегия: с применением метода опорных векторов\n",
    "lsvc = LinearSVC(C=0.01, penalty=\"l1\", dual=False).fit(X, y)\n",
    "model = SelectFromModel(lsvc, prefit=True)\n",
    "X_new = model.transform(X)\n",
    "cv = StratifiedKFold(y_train, n_folds=10, shuffle=True, random_state=42)\n",
    "X_train, X_test, y_train, y_test = train_test_split(X_new, y, test_size=0.3, random_state=42)\n",
    "\n",
    "gb_classifier = GradientBoostingClassifier(random_state=42)\n",
    "gb_classifier.fit(X_train, y_train)\n",
    "# оценка по основной метрике - ROC_AUC \n",
    "print (\"ROC_AUC на обучении=\", cross_val_score(gb_classifier, X_train, y_train, scoring = 'roc_auc', cv=cv, n_jobs=-1).mean())\n",
    "print (\"ROC_AUC на тесте=\", roc_auc_score(y_test,gb_classifier.predict(X_test)))"
   ]
  },
  {
   "cell_type": "code",
   "execution_count": 17,
   "metadata": {
    "collapsed": false
   },
   "outputs": [
    {
     "name": "stdout",
     "output_type": "stream",
     "text": [
      "ROC_AUC на обучении= 0.741693392652\n",
      "ROC_AUC на тесте= 0.506194563484\n"
     ]
    }
   ],
   "source": [
    "# 2я стратегия: применение решающего дерева для отбора признаков\n",
    "clf = ExtraTreesClassifier()\n",
    "clf = clf.fit(X, y)\n",
    "model = SelectFromModel(clf, prefit=True)\n",
    "X_new = model.transform(X)\n",
    "\n",
    "X_train, X_test, y_train, y_test = train_test_split(X_new, y, test_size=0.3, random_state=42)\n",
    "\n",
    "gb_classifier = GradientBoostingClassifier(random_state=42)\n",
    "gb_classifier.fit(X_train, y_train)\n",
    "# оценка по основной метрике - ROC_AUC \n",
    "print (\"ROC_AUC на обучении=\", cross_val_score(gb_classifier, X_train, y_train, scoring = 'roc_auc', cv=cv, n_jobs=-1).mean())\n",
    "print (\"ROC_AUC на тесте=\", roc_auc_score(y_test,gb_classifier.predict(X_test)))"
   ]
  },
  {
   "cell_type": "markdown",
   "metadata": {},
   "source": [
    "###  Вывод"
   ]
  },
  {
   "cell_type": "markdown",
   "metadata": {},
   "source": [
    "Наилучшей, из рассмотренных, оказалась стратегия отбора признаков на основе решающего дерева, т.к. это более сложная стратегия по сравнению с линейным методом опорных векторов и более подходящая для нашей задачи."
   ]
  },
  {
   "cell_type": "markdown",
   "metadata": {},
   "source": [
    "6\\. Подберите оптимальные параметры модели. Обратите внимание, что в зависимости от того, как вы обработали исходные данные, сделали ли балансировку классов, сколько объектов оставили в обучающей выборке и др. оптимальные значения параметров могут меняться. Возьмите наилучшее из ваших решений на текущий момент и проведите процедуру подбора параметров модели (обратите внимание на `sklearn.model_selection.GridSearchCV`) Как подбор параметров повлиял на качество модели?"
   ]
  },
  {
   "cell_type": "markdown",
   "metadata": {},
   "source": [
    "# выберем оптимальные стратегии обработки данных: \n",
    "1. Балансировка классов методом undersampling (с одинаковыми долями каждого класса)\n",
    "2. Заполнение пропущенных вещественных значений на средние по столбцам\n",
    "3. Обработка категориальных признаков DictVectorizer'ом\n",
    "4. Отбор признаков с использованием решающего дерева"
   ]
  },
  {
   "cell_type": "code",
   "execution_count": 4,
   "metadata": {
    "collapsed": false
   },
   "outputs": [],
   "source": [
    "# формируем набор сэмплированных данных \n",
    "np.random.seed(42)\n",
    "sample_size = len(churn)\n",
    "non_churn_indices = non_churn.index\n",
    "random_indices = np.random.choice(non_churn_indices, sample_size, replace=False)\n",
    "non_churn_sample = data.loc[random_indices]\n",
    "churn_sample = data[data['labels']==1]\n",
    "# формируем выборку со сбалансированными классами \n",
    "data_sample = pd.concat([churn_sample, non_churn_sample], ignore_index=True)\n",
    "# удаляем полностью пустые столбцы\n",
    "empty_cols = data_sample.columns[np.where(data_sample.count() == 0)]\n",
    "for cols in empty_cols:\n",
    "    data_sample.drop(cols, axis =1, inplace = True)\n",
    "# формируем вещественную часть и категориальную          \n",
    "cat_features = data_sample.iloc[:, 174:]\n",
    "num_features = data_sample.drop(cat_features, axis = 1)"
   ]
  },
  {
   "cell_type": "code",
   "execution_count": 5,
   "metadata": {
    "collapsed": false
   },
   "outputs": [],
   "source": [
    "# заменяем пропущенные вещественные значения на средние по столбцам\n",
    "num_features_mean = num_features[num_features.columns[0]].fillna(num_features.mean(axis=0)[0])\n",
    "for i in range(len(num_features.columns)-1):\n",
    "    num_features_mean = np.vstack((num_features_mean,num_features[num_features.columns[i+1]].fillna(num_features.mean(axis=0)[i+1]))) \n",
    "num_features_new_mean = pd.DataFrame(num_features_mean.transpose(),columns=num_features.columns)"
   ]
  },
  {
   "cell_type": "code",
   "execution_count": 6,
   "metadata": {
    "collapsed": false
   },
   "outputs": [
    {
     "data": {
      "text/plain": [
       "(5952, 1705)"
      ]
     },
     "execution_count": 6,
     "metadata": {},
     "output_type": "execute_result"
    }
   ],
   "source": [
    "# кодируем категориальные данные с использованием DictVectorizer\n",
    "cat_features = data_sample.iloc[:, 174:].fillna('NA').applymap(str)\n",
    "# список признаков, количество уникальных значений которых меньше 1000\n",
    "features_to_encode = []\n",
    "for f in cat_features.columns:\n",
    "    if len(np.unique(cat_features[f])) <1000:\n",
    "        features_to_encode.append(f)\n",
    "cat_features_to_encode = cat_features[features_to_encode].drop('labels', axis = 1)\n",
    "\n",
    "encoder = DV(sparse = False)\n",
    "encoder.fit(cat_features_to_encode.T.to_dict().values())\n",
    "encoded_cat_features = encoder.transform(cat_features_to_encode.T.to_dict().values())\n",
    "\n",
    "# объединяем обработанные данные\n",
    "data_result = pd.concat([num_features_new_mean,pd.DataFrame(encoded_cat_features)], axis = 1)\n",
    "data_result['labels'] = data_sample['labels']\n",
    "data_result.shape"
   ]
  },
  {
   "cell_type": "code",
   "execution_count": 7,
   "metadata": {
    "collapsed": false
   },
   "outputs": [
    {
     "data": {
      "text/plain": [
       "(5952, 363)"
      ]
     },
     "execution_count": 7,
     "metadata": {},
     "output_type": "execute_result"
    }
   ],
   "source": [
    "# проводим отбор признаков с решающим деревом\n",
    "X = data_result.drop('labels', axis = 1)\n",
    "y = data_sample['labels']\n",
    "clf = ExtraTreesClassifier(random_state=42)\n",
    "clf = clf.fit(X, y)\n",
    "model = SelectFromModel(clf, prefit=True)\n",
    "X_new = model.transform(X)\n",
    "X_new.shape"
   ]
  },
  {
   "cell_type": "code",
   "execution_count": 8,
   "metadata": {
    "collapsed": true
   },
   "outputs": [],
   "source": [
    "X_train, X_test, y_train, y_test = train_test_split(X_new, y, test_size=0.3, random_state=42)\n",
    "cv = StratifiedKFold(y_train, n_folds=10, shuffle=True, random_state=42)"
   ]
  },
  {
   "cell_type": "code",
   "execution_count": 9,
   "metadata": {
    "collapsed": false
   },
   "outputs": [
    {
     "data": {
      "text/plain": [
       "GridSearchCV(cv=sklearn.cross_validation.StratifiedKFold(labels=[ 1  1 ..., -1  1], n_folds=10, shuffle=True, random_state=42),\n",
       "       error_score='raise',\n",
       "       estimator=GradientBoostingClassifier(criterion='friedman_mse', init=None,\n",
       "              learning_rate=0.1, loss='deviance', max_depth=3,\n",
       "              max_features=None, max_leaf_nodes=None,\n",
       "              min_impurity_split=1e-07, min_samples_leaf=1,\n",
       "              min_samples_split=2, min_weight_fraction_leaf=0.0,\n",
       "              n_estimators=100, presort='auto', random_state=42,\n",
       "              subsample=1.0, verbose=0, warm_start=False),\n",
       "       fit_params={}, iid=True, n_jobs=1,\n",
       "       param_grid={'max_depth': [1, 2, 3, 4, 5], 'n_estimators': array([20, 30, 40, 50, 60, 70, 80])},\n",
       "       pre_dispatch='2*n_jobs', refit=True, scoring=None, verbose=0)"
      ]
     },
     "execution_count": 9,
     "metadata": {},
     "output_type": "execute_result"
    }
   ],
   "source": [
    "# делаем подбор параметров\n",
    "gb_classifier = GradientBoostingClassifier(random_state=42)\n",
    "gb_classifier.fit(X_train, y_train)\n",
    "\n",
    "param_grid = {'n_estimators':np.arange(20,81,10),\n",
    "              'max_depth': [1,2,3,4,5]}\n",
    "grid_cv = GridSearchCV(gb_classifier, param_grid, cv = cv)\n",
    "grid_cv.fit(X_train, y_train)"
   ]
  },
  {
   "cell_type": "code",
   "execution_count": 10,
   "metadata": {
    "collapsed": false
   },
   "outputs": [
    {
     "data": {
      "text/plain": [
       "{'max_depth': 2, 'n_estimators': 80}"
      ]
     },
     "execution_count": 10,
     "metadata": {},
     "output_type": "execute_result"
    }
   ],
   "source": [
    "grid_cv.best_params_"
   ]
  },
  {
   "cell_type": "code",
   "execution_count": 11,
   "metadata": {
    "collapsed": false
   },
   "outputs": [
    {
     "name": "stdout",
     "output_type": "stream",
     "text": [
      "ROC_AUC с подбором параметров на обучении= 0.777061306688\n",
      "ROC_AUC с подбором параметров на тесте= 0.74401999779\n"
     ]
    }
   ],
   "source": [
    "# итоговые оценки по roc_auc \n",
    "print (\"ROC_AUC с подбором параметров на обучении=\", roc_auc_score(y_train,grid_cv.predict_proba(X_train)[:,1]))\n",
    "print (\"ROC_AUC с подбором параметров на тесте=\", roc_auc_score(y_test,grid_cv.predict_proba(X_test)[:,1]))"
   ]
  },
  {
   "cell_type": "code",
   "execution_count": 12,
   "metadata": {
    "collapsed": false
   },
   "outputs": [
    {
     "name": "stdout",
     "output_type": "stream",
     "text": [
      "ROC_AUC на обучении= 0.730598280143\n",
      "ROC_AUC на тесте= 0.673271913701\n"
     ]
    }
   ],
   "source": [
    "gb_classifier = GradientBoostingClassifier(n_estimators=80, max_depth = 2, random_state=42)\n",
    "gb_classifier.fit(X_train, y_train)\n",
    "# оценка по основной метрике - ROC_AUC \n",
    "print (\"ROC_AUC на обучении=\", cross_val_score(gb_classifier, X_train, y_train, scoring = 'roc_auc', cv=cv, n_jobs=-1).mean())\n",
    "print (\"ROC_AUC на тесте=\", roc_auc_score(y_test,gb_classifier.predict(X_test)))"
   ]
  },
  {
   "cell_type": "markdown",
   "metadata": {},
   "source": [
    "### Вывод"
   ]
  },
  {
   "cell_type": "markdown",
   "metadata": {},
   "source": [
    "После подбора параметров качество (как на обучении, так и на тесте) выросло. Оптимальными параметрами оказались 80 деревьев с глубиной 2."
   ]
  },
  {
   "cell_type": "markdown",
   "metadata": {},
   "source": [
    "7\\. Предложите методику оценки того, какие признаки внесли наибольший вклад в модель (например, это могут быть веса в случае регрессии, а также большое количество моделей реализуют метод `feature_importances_` - оценка важности признаков). На основе предложенной методики проанализируйте, какие признаки внесли больший вклад в модель, а какие меньший?"
   ]
  },
  {
   "cell_type": "code",
   "execution_count": 13,
   "metadata": {
    "collapsed": false
   },
   "outputs": [
    {
     "data": {
      "text/html": [
       "<div>\n",
       "<table border=\"1\" class=\"dataframe\">\n",
       "  <thead>\n",
       "    <tr style=\"text-align: right;\">\n",
       "      <th></th>\n",
       "      <th>Важность признака</th>\n",
       "    </tr>\n",
       "  </thead>\n",
       "  <tbody>\n",
       "    <tr>\n",
       "      <th>31</th>\n",
       "      <td>0.219183</td>\n",
       "    </tr>\n",
       "    <tr>\n",
       "      <th>46</th>\n",
       "      <td>0.074742</td>\n",
       "    </tr>\n",
       "    <tr>\n",
       "      <th>17</th>\n",
       "      <td>0.059034</td>\n",
       "    </tr>\n",
       "    <tr>\n",
       "      <th>305</th>\n",
       "      <td>0.056785</td>\n",
       "    </tr>\n",
       "    <tr>\n",
       "      <th>16</th>\n",
       "      <td>0.048698</td>\n",
       "    </tr>\n",
       "    <tr>\n",
       "      <th>307</th>\n",
       "      <td>0.040057</td>\n",
       "    </tr>\n",
       "    <tr>\n",
       "      <th>12</th>\n",
       "      <td>0.035289</td>\n",
       "    </tr>\n",
       "    <tr>\n",
       "      <th>26</th>\n",
       "      <td>0.033637</td>\n",
       "    </tr>\n",
       "    <tr>\n",
       "      <th>20</th>\n",
       "      <td>0.027847</td>\n",
       "    </tr>\n",
       "    <tr>\n",
       "      <th>9</th>\n",
       "      <td>0.026135</td>\n",
       "    </tr>\n",
       "    <tr>\n",
       "      <th>3</th>\n",
       "      <td>0.022529</td>\n",
       "    </tr>\n",
       "    <tr>\n",
       "      <th>360</th>\n",
       "      <td>0.020423</td>\n",
       "    </tr>\n",
       "    <tr>\n",
       "      <th>23</th>\n",
       "      <td>0.018273</td>\n",
       "    </tr>\n",
       "    <tr>\n",
       "      <th>281</th>\n",
       "      <td>0.016934</td>\n",
       "    </tr>\n",
       "    <tr>\n",
       "      <th>41</th>\n",
       "      <td>0.015088</td>\n",
       "    </tr>\n",
       "    <tr>\n",
       "      <th>359</th>\n",
       "      <td>0.014924</td>\n",
       "    </tr>\n",
       "    <tr>\n",
       "      <th>284</th>\n",
       "      <td>0.014483</td>\n",
       "    </tr>\n",
       "    <tr>\n",
       "      <th>40</th>\n",
       "      <td>0.014222</td>\n",
       "    </tr>\n",
       "    <tr>\n",
       "      <th>254</th>\n",
       "      <td>0.013677</td>\n",
       "    </tr>\n",
       "    <tr>\n",
       "      <th>277</th>\n",
       "      <td>0.011499</td>\n",
       "    </tr>\n",
       "    <tr>\n",
       "      <th>13</th>\n",
       "      <td>0.009974</td>\n",
       "    </tr>\n",
       "    <tr>\n",
       "      <th>45</th>\n",
       "      <td>0.009685</td>\n",
       "    </tr>\n",
       "    <tr>\n",
       "      <th>30</th>\n",
       "      <td>0.009311</td>\n",
       "    </tr>\n",
       "    <tr>\n",
       "      <th>285</th>\n",
       "      <td>0.009068</td>\n",
       "    </tr>\n",
       "    <tr>\n",
       "      <th>34</th>\n",
       "      <td>0.008863</td>\n",
       "    </tr>\n",
       "    <tr>\n",
       "      <th>200</th>\n",
       "      <td>0.008834</td>\n",
       "    </tr>\n",
       "    <tr>\n",
       "      <th>135</th>\n",
       "      <td>0.008721</td>\n",
       "    </tr>\n",
       "    <tr>\n",
       "      <th>11</th>\n",
       "      <td>0.008251</td>\n",
       "    </tr>\n",
       "    <tr>\n",
       "      <th>278</th>\n",
       "      <td>0.008150</td>\n",
       "    </tr>\n",
       "    <tr>\n",
       "      <th>84</th>\n",
       "      <td>0.007776</td>\n",
       "    </tr>\n",
       "    <tr>\n",
       "      <th>...</th>\n",
       "      <td>...</td>\n",
       "    </tr>\n",
       "    <tr>\n",
       "      <th>127</th>\n",
       "      <td>0.000000</td>\n",
       "    </tr>\n",
       "    <tr>\n",
       "      <th>138</th>\n",
       "      <td>0.000000</td>\n",
       "    </tr>\n",
       "    <tr>\n",
       "      <th>126</th>\n",
       "      <td>0.000000</td>\n",
       "    </tr>\n",
       "    <tr>\n",
       "      <th>125</th>\n",
       "      <td>0.000000</td>\n",
       "    </tr>\n",
       "    <tr>\n",
       "      <th>123</th>\n",
       "      <td>0.000000</td>\n",
       "    </tr>\n",
       "    <tr>\n",
       "      <th>122</th>\n",
       "      <td>0.000000</td>\n",
       "    </tr>\n",
       "    <tr>\n",
       "      <th>121</th>\n",
       "      <td>0.000000</td>\n",
       "    </tr>\n",
       "    <tr>\n",
       "      <th>120</th>\n",
       "      <td>0.000000</td>\n",
       "    </tr>\n",
       "    <tr>\n",
       "      <th>119</th>\n",
       "      <td>0.000000</td>\n",
       "    </tr>\n",
       "    <tr>\n",
       "      <th>137</th>\n",
       "      <td>0.000000</td>\n",
       "    </tr>\n",
       "    <tr>\n",
       "      <th>139</th>\n",
       "      <td>0.000000</td>\n",
       "    </tr>\n",
       "    <tr>\n",
       "      <th>157</th>\n",
       "      <td>0.000000</td>\n",
       "    </tr>\n",
       "    <tr>\n",
       "      <th>149</th>\n",
       "      <td>0.000000</td>\n",
       "    </tr>\n",
       "    <tr>\n",
       "      <th>156</th>\n",
       "      <td>0.000000</td>\n",
       "    </tr>\n",
       "    <tr>\n",
       "      <th>155</th>\n",
       "      <td>0.000000</td>\n",
       "    </tr>\n",
       "    <tr>\n",
       "      <th>154</th>\n",
       "      <td>0.000000</td>\n",
       "    </tr>\n",
       "    <tr>\n",
       "      <th>153</th>\n",
       "      <td>0.000000</td>\n",
       "    </tr>\n",
       "    <tr>\n",
       "      <th>152</th>\n",
       "      <td>0.000000</td>\n",
       "    </tr>\n",
       "    <tr>\n",
       "      <th>151</th>\n",
       "      <td>0.000000</td>\n",
       "    </tr>\n",
       "    <tr>\n",
       "      <th>150</th>\n",
       "      <td>0.000000</td>\n",
       "    </tr>\n",
       "    <tr>\n",
       "      <th>148</th>\n",
       "      <td>0.000000</td>\n",
       "    </tr>\n",
       "    <tr>\n",
       "      <th>140</th>\n",
       "      <td>0.000000</td>\n",
       "    </tr>\n",
       "    <tr>\n",
       "      <th>147</th>\n",
       "      <td>0.000000</td>\n",
       "    </tr>\n",
       "    <tr>\n",
       "      <th>146</th>\n",
       "      <td>0.000000</td>\n",
       "    </tr>\n",
       "    <tr>\n",
       "      <th>145</th>\n",
       "      <td>0.000000</td>\n",
       "    </tr>\n",
       "    <tr>\n",
       "      <th>144</th>\n",
       "      <td>0.000000</td>\n",
       "    </tr>\n",
       "    <tr>\n",
       "      <th>143</th>\n",
       "      <td>0.000000</td>\n",
       "    </tr>\n",
       "    <tr>\n",
       "      <th>142</th>\n",
       "      <td>0.000000</td>\n",
       "    </tr>\n",
       "    <tr>\n",
       "      <th>141</th>\n",
       "      <td>0.000000</td>\n",
       "    </tr>\n",
       "    <tr>\n",
       "      <th>362</th>\n",
       "      <td>0.000000</td>\n",
       "    </tr>\n",
       "  </tbody>\n",
       "</table>\n",
       "<p>363 rows × 1 columns</p>\n",
       "</div>"
      ],
      "text/plain": [
       "     Важность признака\n",
       "31            0.219183\n",
       "46            0.074742\n",
       "17            0.059034\n",
       "305           0.056785\n",
       "16            0.048698\n",
       "307           0.040057\n",
       "12            0.035289\n",
       "26            0.033637\n",
       "20            0.027847\n",
       "9             0.026135\n",
       "3             0.022529\n",
       "360           0.020423\n",
       "23            0.018273\n",
       "281           0.016934\n",
       "41            0.015088\n",
       "359           0.014924\n",
       "284           0.014483\n",
       "40            0.014222\n",
       "254           0.013677\n",
       "277           0.011499\n",
       "13            0.009974\n",
       "45            0.009685\n",
       "30            0.009311\n",
       "285           0.009068\n",
       "34            0.008863\n",
       "200           0.008834\n",
       "135           0.008721\n",
       "11            0.008251\n",
       "278           0.008150\n",
       "84            0.007776\n",
       "..                 ...\n",
       "127           0.000000\n",
       "138           0.000000\n",
       "126           0.000000\n",
       "125           0.000000\n",
       "123           0.000000\n",
       "122           0.000000\n",
       "121           0.000000\n",
       "120           0.000000\n",
       "119           0.000000\n",
       "137           0.000000\n",
       "139           0.000000\n",
       "157           0.000000\n",
       "149           0.000000\n",
       "156           0.000000\n",
       "155           0.000000\n",
       "154           0.000000\n",
       "153           0.000000\n",
       "152           0.000000\n",
       "151           0.000000\n",
       "150           0.000000\n",
       "148           0.000000\n",
       "140           0.000000\n",
       "147           0.000000\n",
       "146           0.000000\n",
       "145           0.000000\n",
       "144           0.000000\n",
       "143           0.000000\n",
       "142           0.000000\n",
       "141           0.000000\n",
       "362           0.000000\n",
       "\n",
       "[363 rows x 1 columns]"
      ]
     },
     "execution_count": 13,
     "metadata": {},
     "output_type": "execute_result"
    }
   ],
   "source": [
    "# оценим важность признаков с помощью метода feature_importances_ нашего классификатора \n",
    "importances = gb_classifier.feature_importances_\n",
    "feature_importances = pd.DataFrame({'Важность признака': importances})\n",
    "feature_importances.sort_values('Важность признака', ascending=False)"
   ]
  },
  {
   "cell_type": "code",
   "execution_count": 14,
   "metadata": {
    "collapsed": false
   },
   "outputs": [
    {
     "name": "stdout",
     "output_type": "stream",
     "text": [
      "Важные признаки:  Index(['Var19', 'Var21', 'Var37', 'Var57', 131, 133], dtype='object')\n",
      "Неважные признаки:  Index(['Var2', 'Var3', 'Var7', 'Var12', 'Var17'], dtype='object')\n"
     ]
    }
   ],
   "source": [
    "# наиболее важные признаки для модели (важность более 0.04)\n",
    "print (\"Важные признаки: \", X.columns[feature_importances[feature_importances['Важность признака']>0.04].index])\n",
    "\n",
    "# наименее важные признаки для модели (важность 0, ограничимся 5 признаками, т.к. их много)\n",
    "print (\"Неважные признаки: \", X.columns[feature_importances[feature_importances['Важность признака']==0].index][:5])"
   ]
  },
  {
   "cell_type": "code",
   "execution_count": 15,
   "metadata": {
    "collapsed": false
   },
   "outputs": [
    {
     "data": {
      "text/plain": [
       "GridSearchCV(cv=sklearn.cross_validation.StratifiedKFold(labels=[ 1  1 ..., -1  1], n_folds=10, shuffle=True, random_state=42),\n",
       "       error_score='raise',\n",
       "       estimator=GradientBoostingClassifier(criterion='friedman_mse', init=None,\n",
       "              learning_rate=0.1, loss='deviance', max_depth=3,\n",
       "              max_features=None, max_leaf_nodes=None,\n",
       "              min_impurity_split=1e-07, min_samples_leaf=1,\n",
       "              min_samples_split=2, min_weight_fraction_leaf=0.0,\n",
       "              n_estimators=100, presort='auto', random_state=42,\n",
       "              subsample=1.0, verbose=0, warm_start=False),\n",
       "       fit_params={}, iid=True, n_jobs=1,\n",
       "       param_grid={'max_depth': [1, 2, 3, 4, 5], 'n_estimators': array([20, 30, 40, 50, 60, 70, 80])},\n",
       "       pre_dispatch='2*n_jobs', refit=True, scoring=None, verbose=0)"
      ]
     },
     "execution_count": 15,
     "metadata": {},
     "output_type": "execute_result"
    }
   ],
   "source": [
    "#сделаем отбор признаков (важность более 0)\n",
    "important_feature_indexes = feature_importances[feature_importances['Важность признака']>0].index\n",
    "X_important = X_new[:,important_feature_indexes]\n",
    "\n",
    "X_train, X_test, y_train, y_test = train_test_split(X_important, y, test_size=0.3, random_state=42)\n",
    "cv = StratifiedKFold(y_train, n_folds=10, shuffle=True, random_state=42)\n",
    "\n",
    "\n",
    "grid_cv.fit(X_train, y_train)"
   ]
  },
  {
   "cell_type": "code",
   "execution_count": 16,
   "metadata": {
    "collapsed": false
   },
   "outputs": [
    {
     "data": {
      "text/plain": [
       "{'max_depth': 5, 'n_estimators': 30}"
      ]
     },
     "execution_count": 16,
     "metadata": {},
     "output_type": "execute_result"
    }
   ],
   "source": [
    "grid_cv.best_params_"
   ]
  },
  {
   "cell_type": "code",
   "execution_count": 17,
   "metadata": {
    "collapsed": false
   },
   "outputs": [
    {
     "name": "stdout",
     "output_type": "stream",
     "text": [
      "ROC_AUC с подбором параметров на обучении= 0.849149985892\n",
      "ROC_AUC с подбором параметров на тесте= 0.731469902874\n"
     ]
    }
   ],
   "source": [
    "# итоговые оценки по roc_auc \n",
    "print (\"ROC_AUC с подбором параметров на обучении=\", roc_auc_score(y_train,grid_cv.predict_proba(X_train)[:,1]))\n",
    "print (\"ROC_AUC с подбором параметров на тесте=\", roc_auc_score(y_test,grid_cv.predict_proba(X_test)[:,1]))"
   ]
  },
  {
   "cell_type": "markdown",
   "metadata": {},
   "source": [
    "### Вывод"
   ]
  },
  {
   "cell_type": "markdown",
   "metadata": {},
   "source": [
    "Отбор признаков методом feature_importances и новый подбор параметров (оптимальные параметры: 30 деревьев с максимальной глубиной 5) классификатора позволяет еще сильнее улучшить качество модели."
   ]
  },
  {
   "cell_type": "markdown",
   "metadata": {},
   "source": [
    "8\\. Напоследок давайте посмотрим на объекты. На каких объектах достигается наибольшая ошибка классификации? Есть ли межу этими объектами что-то общее? Видны ли какие-либо закономерности? Предположите, почему наибольшая ошибка достигается именно на этих объектах. В данном случае \"наибольшую\" ошибку можно понимать как отнесение объекта с чужому классу с большой долей уверенности (с высокой вероятностью)."
   ]
  },
  {
   "cell_type": "code",
   "execution_count": 18,
   "metadata": {
    "collapsed": false
   },
   "outputs": [
    {
     "data": {
      "text/html": [
       "<div>\n",
       "<table border=\"1\" class=\"dataframe\">\n",
       "  <thead>\n",
       "    <tr style=\"text-align: right;\">\n",
       "      <th></th>\n",
       "      <th>Non_churn (-1)</th>\n",
       "      <th>Churn (1)</th>\n",
       "      <th>Test_labels</th>\n",
       "      <th>y_index</th>\n",
       "    </tr>\n",
       "  </thead>\n",
       "  <tbody>\n",
       "    <tr>\n",
       "      <th>0</th>\n",
       "      <td>0.342375</td>\n",
       "      <td>0.657625</td>\n",
       "      <td>-1</td>\n",
       "      <td>4039</td>\n",
       "    </tr>\n",
       "    <tr>\n",
       "      <th>1</th>\n",
       "      <td>0.497601</td>\n",
       "      <td>0.502399</td>\n",
       "      <td>-1</td>\n",
       "      <td>4247</td>\n",
       "    </tr>\n",
       "    <tr>\n",
       "      <th>2</th>\n",
       "      <td>0.351790</td>\n",
       "      <td>0.648210</td>\n",
       "      <td>1</td>\n",
       "      <td>1966</td>\n",
       "    </tr>\n",
       "    <tr>\n",
       "      <th>3</th>\n",
       "      <td>0.793192</td>\n",
       "      <td>0.206808</td>\n",
       "      <td>-1</td>\n",
       "      <td>4765</td>\n",
       "    </tr>\n",
       "    <tr>\n",
       "      <th>4</th>\n",
       "      <td>0.176305</td>\n",
       "      <td>0.823695</td>\n",
       "      <td>1</td>\n",
       "      <td>1374</td>\n",
       "    </tr>\n",
       "    <tr>\n",
       "      <th>5</th>\n",
       "      <td>0.566571</td>\n",
       "      <td>0.433429</td>\n",
       "      <td>-1</td>\n",
       "      <td>5192</td>\n",
       "    </tr>\n",
       "    <tr>\n",
       "      <th>6</th>\n",
       "      <td>0.580050</td>\n",
       "      <td>0.419950</td>\n",
       "      <td>1</td>\n",
       "      <td>1894</td>\n",
       "    </tr>\n",
       "    <tr>\n",
       "      <th>7</th>\n",
       "      <td>0.410533</td>\n",
       "      <td>0.589467</td>\n",
       "      <td>-1</td>\n",
       "      <td>3960</td>\n",
       "    </tr>\n",
       "    <tr>\n",
       "      <th>8</th>\n",
       "      <td>0.498746</td>\n",
       "      <td>0.501254</td>\n",
       "      <td>-1</td>\n",
       "      <td>4801</td>\n",
       "    </tr>\n",
       "    <tr>\n",
       "      <th>9</th>\n",
       "      <td>0.229175</td>\n",
       "      <td>0.770825</td>\n",
       "      <td>1</td>\n",
       "      <td>2899</td>\n",
       "    </tr>\n",
       "  </tbody>\n",
       "</table>\n",
       "</div>"
      ],
      "text/plain": [
       "   Non_churn (-1)  Churn (1)  Test_labels  y_index\n",
       "0        0.342375   0.657625           -1     4039\n",
       "1        0.497601   0.502399           -1     4247\n",
       "2        0.351790   0.648210            1     1966\n",
       "3        0.793192   0.206808           -1     4765\n",
       "4        0.176305   0.823695            1     1374\n",
       "5        0.566571   0.433429           -1     5192\n",
       "6        0.580050   0.419950            1     1894\n",
       "7        0.410533   0.589467           -1     3960\n",
       "8        0.498746   0.501254           -1     4801\n",
       "9        0.229175   0.770825            1     2899"
      ]
     },
     "execution_count": 18,
     "metadata": {},
     "output_type": "execute_result"
    }
   ],
   "source": [
    "# формируем таблицу с предсказаниями вероятностей классов и реальными (тестовыми) классами\n",
    "pred_proba = pd.DataFrame(grid_cv.predict_proba(X_test), columns = ['Non_churn (-1)', 'Churn (1)'])\n",
    "errors_table = pd.concat([pred_proba,pd.DataFrame(y_test.values, columns = ['Test_labels'])], axis=1)\n",
    "errors_table['y_index'] = y_test.index\n",
    "errors_table.head(10)"
   ]
  },
  {
   "cell_type": "code",
   "execution_count": 19,
   "metadata": {
    "collapsed": false
   },
   "outputs": [
    {
     "name": "stdout",
     "output_type": "stream",
     "text": [
      "Количество ошибок на классе отток 312 , что составляет 33.8 % от общего количество объектоов данного класса\n",
      "Количество ошибок на классе неотток 612 , что составляет 71.0 % от общего количество объектоов данного класса\n"
     ]
    }
   ],
   "source": [
    "# список ошибок по классу \"1\" (т.е. класс 1, но предсказывается класс -1 с вероятностью > 0.5)\n",
    "churn_lab = errors_table[errors_table['Test_labels'] == 1]\n",
    "churn_er_ind = churn_lab[churn_lab['Non_churn (-1)'] >=0.5].index\n",
    "# список объектов, на которых получаются ошибки по 1 классу\n",
    "index_churn_error = errors_table.loc[churn_er_ind]['y_index'].values\n",
    "\n",
    "# список ошибок по классу \"-1\" (т.е. класс -1, но предсказывается класс 1 с вероятностью > 0.5)\n",
    "non_churn_lab = errors_table[errors_table['Test_labels'] == -1]\n",
    "non_churn_er_ind = churn_lab[churn_lab['Churn (1)'] >=0.5].index\n",
    "# список объектов, на которых получаются ошибки по -1 классу\n",
    "index_non_churn_error = errors_table.loc[non_churn_er_ind]['y_index'].values\n",
    "\n",
    "print (\"Количество ошибок на классе отток\", len(index_churn_error), \", что составляет\", round(len(index_churn_error)*100/len(churn_lab), 1),\"% от общего количество объектоов данного класса\")\n",
    "print (\"Количество ошибок на классе неотток\", len(index_non_churn_error), \", что составляет\", round(len(index_non_churn_error)*100/len(non_churn_lab), 1),\"% от общего количество объектоов данного класса\")"
   ]
  },
  {
   "cell_type": "markdown",
   "metadata": {},
   "source": [
    "Посмотрим как себя ведут отобранные признаки (4 наиболее важных): ['Var19', 'Var21', 'Var37', 'Var57']."
   ]
  },
  {
   "cell_type": "code",
   "execution_count": 81,
   "metadata": {
    "collapsed": false
   },
   "outputs": [
    {
     "data": {
      "text/html": [
       "<div>\n",
       "<table border=\"1\" class=\"dataframe\">\n",
       "  <thead>\n",
       "    <tr style=\"text-align: right;\">\n",
       "      <th></th>\n",
       "      <th>Var19</th>\n",
       "      <th>Var21</th>\n",
       "      <th>Var37</th>\n",
       "      <th>Var57</th>\n",
       "    </tr>\n",
       "  </thead>\n",
       "  <tbody>\n",
       "    <tr>\n",
       "      <th>count</th>\n",
       "      <td>312.000000</td>\n",
       "      <td>312.000000</td>\n",
       "      <td>312.000000</td>\n",
       "      <td>312.000000</td>\n",
       "    </tr>\n",
       "    <tr>\n",
       "      <th>mean</th>\n",
       "      <td>68.980769</td>\n",
       "      <td>127.473929</td>\n",
       "      <td>4.505448</td>\n",
       "      <td>258.053665</td>\n",
       "    </tr>\n",
       "    <tr>\n",
       "      <th>std</th>\n",
       "      <td>53.014343</td>\n",
       "      <td>435.201215</td>\n",
       "      <td>20.037931</td>\n",
       "      <td>46.792292</td>\n",
       "    </tr>\n",
       "    <tr>\n",
       "      <th>min</th>\n",
       "      <td>4.000000</td>\n",
       "      <td>0.000000</td>\n",
       "      <td>-30.000000</td>\n",
       "      <td>114.000000</td>\n",
       "    </tr>\n",
       "    <tr>\n",
       "      <th>25%</th>\n",
       "      <td>28.000000</td>\n",
       "      <td>0.000000</td>\n",
       "      <td>1.617564</td>\n",
       "      <td>253.140675</td>\n",
       "    </tr>\n",
       "    <tr>\n",
       "      <th>50%</th>\n",
       "      <td>55.000000</td>\n",
       "      <td>28.000000</td>\n",
       "      <td>4.000000</td>\n",
       "      <td>253.140675</td>\n",
       "    </tr>\n",
       "    <tr>\n",
       "      <th>75%</th>\n",
       "      <td>104.500000</td>\n",
       "      <td>91.000000</td>\n",
       "      <td>10.000000</td>\n",
       "      <td>253.140675</td>\n",
       "    </tr>\n",
       "    <tr>\n",
       "      <th>max</th>\n",
       "      <td>258.000000</td>\n",
       "      <td>5978.000000</td>\n",
       "      <td>64.000000</td>\n",
       "      <td>420.000000</td>\n",
       "    </tr>\n",
       "  </tbody>\n",
       "</table>\n",
       "</div>"
      ],
      "text/plain": [
       "            Var19        Var21       Var37       Var57\n",
       "count  312.000000   312.000000  312.000000  312.000000\n",
       "mean    68.980769   127.473929    4.505448  258.053665\n",
       "std     53.014343   435.201215   20.037931   46.792292\n",
       "min      4.000000     0.000000  -30.000000  114.000000\n",
       "25%     28.000000     0.000000    1.617564  253.140675\n",
       "50%     55.000000    28.000000    4.000000  253.140675\n",
       "75%    104.500000    91.000000   10.000000  253.140675\n",
       "max    258.000000  5978.000000   64.000000  420.000000"
      ]
     },
     "execution_count": 81,
     "metadata": {},
     "output_type": "execute_result"
    }
   ],
   "source": [
    "# смотрим объекты, на которых возникает ошибка по классу отток\n",
    "X_test_frame = pd.DataFrame(X_test, index = y_test.index, columns = X.columns[feature_importances[feature_importances['Важность признака']>0].index])\n",
    "X_test_frame_churn = X_test_frame.loc[index_churn_error]\n",
    "X_to_analyse = X_test_frame_churn[['Var19', 'Var21', 'Var37', 'Var57']]\n",
    "X_to_analyse.describe()"
   ]
  },
  {
   "cell_type": "markdown",
   "metadata": {},
   "source": [
    "Рассмотрим уникальные значения данных признаков"
   ]
  },
  {
   "cell_type": "code",
   "execution_count": 64,
   "metadata": {
    "collapsed": false
   },
   "outputs": [
    {
     "data": {
      "text/plain": [
       "array([   4.,    6.,    8.,   10.,   12.,   14.,   16.,   18.,   20.,\n",
       "         22.,   24.,   26.,   28.,   30.,   32.,   34.,   36.,   38.,\n",
       "         40.,   42.,   44.,   46.,   48.,   50.,   52.,   54.,   56.,\n",
       "         58.,   60.,   62.,   64.,   66.,   70.,   72.,   74.,   76.,\n",
       "         78.,   80.,   82.,   84.,   86.,   88.,   90.,   92.,   94.,\n",
       "         96.,   98.,  100.,  102.,  104.,  106.,  108.,  110.,  112.,\n",
       "        114.,  116.,  118.,  120.,  124.,  126.,  128.,  130.,  132.,\n",
       "        134.,  136.,  138.,  142.,  144.,  150.,  154.,  160.,  162.,\n",
       "        164.,  166.,  170.,  172.,  174.,  176.,  178.,  180.,  190.,\n",
       "        192.,  194.,  214.,  222.,  228.,  244.,  258.])"
      ]
     },
     "execution_count": 64,
     "metadata": {},
     "output_type": "execute_result"
    }
   ],
   "source": [
    "np.unique(X_to_analyse['Var19'])"
   ]
  },
  {
   "cell_type": "code",
   "execution_count": 65,
   "metadata": {
    "collapsed": false
   },
   "outputs": [
    {
     "data": {
      "text/plain": [
       "array([    0.        ,     7.        ,    14.        ,    21.        ,\n",
       "          28.        ,    35.        ,    42.        ,    49.        ,\n",
       "          56.        ,    63.        ,    70.        ,    77.        ,\n",
       "          80.99647234,    84.        ,    91.        ,    98.        ,\n",
       "         105.        ,   112.        ,   119.        ,   126.        ,\n",
       "         133.        ,   147.        ,   154.        ,   161.        ,\n",
       "         168.        ,   175.        ,   189.        ,   196.        ,\n",
       "         203.        ,   210.        ,   217.        ,   224.        ,\n",
       "         231.        ,   245.        ,   252.        ,   259.        ,\n",
       "         273.        ,   280.        ,   294.        ,   301.        ,\n",
       "         308.        ,   315.        ,   322.        ,   329.        ,\n",
       "         336.        ,   343.        ,   350.        ,   357.        ,\n",
       "         364.        ,   399.        ,   420.        ,   441.        ,\n",
       "         490.        ,   504.        ,   532.        ,   560.        ,\n",
       "         595.        ,   644.        ,   742.        ,   798.        ,\n",
       "         861.        ,   931.        ,   973.        ,  1190.        ,\n",
       "        4081.        ,  5978.        ])"
      ]
     },
     "execution_count": 65,
     "metadata": {},
     "output_type": "execute_result"
    }
   ],
   "source": [
    "np.unique(X_to_analyse['Var21'])"
   ]
  },
  {
   "cell_type": "code",
   "execution_count": 67,
   "metadata": {
    "collapsed": false
   },
   "outputs": [
    {
     "data": {
      "text/plain": [
       "array([-30.        , -28.        , -26.        , -24.        ,\n",
       "       -22.        , -20.        , -18.        , -16.        ,\n",
       "       -14.        , -12.        ,  -8.        ,  -6.        ,\n",
       "        -2.        ,   1.61756446,   4.        ,   6.        ,\n",
       "         8.        ,  10.        ,  12.        ,  14.        ,\n",
       "        16.        ,  18.        ,  20.        ,  22.        ,\n",
       "        24.        ,  26.        ,  28.        ,  30.        ,\n",
       "        32.        ,  34.        ,  36.        ,  38.        ,\n",
       "        40.        ,  42.        ,  44.        ,  46.        ,\n",
       "        48.        ,  54.        ,  56.        ,  58.        ,\n",
       "        60.        ,  62.        ,  64.        ])"
      ]
     },
     "execution_count": 67,
     "metadata": {},
     "output_type": "execute_result"
    }
   ],
   "source": [
    "np.unique(X_to_analyse['Var37'])"
   ]
  },
  {
   "cell_type": "code",
   "execution_count": 66,
   "metadata": {
    "collapsed": false
   },
   "outputs": [
    {
     "data": {
      "text/plain": [
       "array([ 114.        ,  132.        ,  138.        ,  144.        ,\n",
       "        150.        ,  156.        ,  162.        ,  174.        ,\n",
       "        180.        ,  186.        ,  192.        ,  198.        ,\n",
       "        204.        ,  210.        ,  216.        ,  222.        ,\n",
       "        228.        ,  234.        ,  240.        ,  246.        ,\n",
       "        253.14067524,  258.        ,  264.        ,  270.        ,\n",
       "        276.        ,  282.        ,  288.        ,  294.        ,\n",
       "        300.        ,  306.        ,  312.        ,  318.        ,\n",
       "        324.        ,  330.        ,  348.        ,  354.        ,\n",
       "        360.        ,  366.        ,  372.        ,  378.        ,\n",
       "        390.        ,  396.        ,  402.        ,  408.        ,\n",
       "        414.        ,  420.        ])"
      ]
     },
     "execution_count": 66,
     "metadata": {},
     "output_type": "execute_result"
    }
   ],
   "source": [
    "np.unique(X_to_analyse['Var57'])"
   ]
  },
  {
   "cell_type": "code",
   "execution_count": 82,
   "metadata": {
    "collapsed": false
   },
   "outputs": [
    {
     "name": "stdout",
     "output_type": "stream",
     "text": [
      "88\n",
      "66\n",
      "43\n",
      "46\n"
     ]
    }
   ],
   "source": [
    "print (len(np.unique(X_to_analyse['Var19'])))\n",
    "print (len(np.unique(X_to_analyse['Var21'])))\n",
    "print (len(np.unique(X_to_analyse['Var37'])))\n",
    "print (len(np.unique(X_to_analyse['Var57'])))"
   ]
  },
  {
   "cell_type": "markdown",
   "metadata": {},
   "source": [
    "1. Значения Var19 практически представляют собой арифметическую прогрессию с шагом 2\n",
    "2. Значения Var21 практически представляют собой арифметическую прогрессию с шагом 7\n",
    "3. Значения Var37 практически представляют собой арифметическую прогрессию с шагом 2, но с минимальным значением -30\n",
    "4. Значения Var57 практически представляют собой арифметическую прогрессию с шагом 6"
   ]
  },
  {
   "cell_type": "code",
   "execution_count": 46,
   "metadata": {
    "collapsed": false
   },
   "outputs": [
    {
     "data": {
      "text/plain": [
       "array([[<matplotlib.axes._subplots.AxesSubplot object at 0x000000001BFEC438>,\n",
       "        <matplotlib.axes._subplots.AxesSubplot object at 0x0000000026905278>],\n",
       "       [<matplotlib.axes._subplots.AxesSubplot object at 0x00000000269C33C8>,\n",
       "        <matplotlib.axes._subplots.AxesSubplot object at 0x0000000026C1FE48>]], dtype=object)"
      ]
     },
     "execution_count": 46,
     "metadata": {},
     "output_type": "execute_result"
    },
    {
     "data": {
      "image/png": "[encoded data removed]",
      "text/plain": [
       "<matplotlib.figure.Figure at 0x27591780>"
      ]
     },
     "metadata": {},
     "output_type": "display_data"
    }
   ],
   "source": [
    "X_to_analyse.hist(bins=100, figsize = [20,20])"
   ]
  },
  {
   "cell_type": "markdown",
   "metadata": {},
   "source": [
    "Распределения данных признаков не похожи на нормальное, а также не похожи между собой. При этом признак Var19 имеет наибольшее количество различных значений. Признаки Var37 и Var57 имеют выбросы."
   ]
  },
  {
   "cell_type": "code",
   "execution_count": 84,
   "metadata": {
    "collapsed": false
   },
   "outputs": [
    {
     "data": {
      "text/html": [
       "<div>\n",
       "<table border=\"1\" class=\"dataframe\">\n",
       "  <thead>\n",
       "    <tr style=\"text-align: right;\">\n",
       "      <th></th>\n",
       "      <th>Var19</th>\n",
       "      <th>Var21</th>\n",
       "      <th>Var37</th>\n",
       "      <th>Var57</th>\n",
       "    </tr>\n",
       "  </thead>\n",
       "  <tbody>\n",
       "    <tr>\n",
       "      <th>count</th>\n",
       "      <td>612.000000</td>\n",
       "      <td>612.000000</td>\n",
       "      <td>612.000000</td>\n",
       "      <td>612.000000</td>\n",
       "    </tr>\n",
       "    <tr>\n",
       "      <th>mean</th>\n",
       "      <td>45.516340</td>\n",
       "      <td>38.909941</td>\n",
       "      <td>2.557630</td>\n",
       "      <td>232.787813</td>\n",
       "    </tr>\n",
       "    <tr>\n",
       "      <th>std</th>\n",
       "      <td>34.755372</td>\n",
       "      <td>144.336454</td>\n",
       "      <td>9.740796</td>\n",
       "      <td>56.763970</td>\n",
       "    </tr>\n",
       "    <tr>\n",
       "      <th>min</th>\n",
       "      <td>4.000000</td>\n",
       "      <td>0.000000</td>\n",
       "      <td>-20.000000</td>\n",
       "      <td>114.000000</td>\n",
       "    </tr>\n",
       "    <tr>\n",
       "      <th>25%</th>\n",
       "      <td>18.000000</td>\n",
       "      <td>0.000000</td>\n",
       "      <td>1.617564</td>\n",
       "      <td>198.000000</td>\n",
       "    </tr>\n",
       "    <tr>\n",
       "      <th>50%</th>\n",
       "      <td>36.000000</td>\n",
       "      <td>0.000000</td>\n",
       "      <td>1.617564</td>\n",
       "      <td>253.140675</td>\n",
       "    </tr>\n",
       "    <tr>\n",
       "      <th>75%</th>\n",
       "      <td>60.000000</td>\n",
       "      <td>21.000000</td>\n",
       "      <td>4.000000</td>\n",
       "      <td>253.140675</td>\n",
       "    </tr>\n",
       "    <tr>\n",
       "      <th>max</th>\n",
       "      <td>218.000000</td>\n",
       "      <td>2527.000000</td>\n",
       "      <td>66.000000</td>\n",
       "      <td>636.000000</td>\n",
       "    </tr>\n",
       "  </tbody>\n",
       "</table>\n",
       "</div>"
      ],
      "text/plain": [
       "            Var19        Var21       Var37       Var57\n",
       "count  612.000000   612.000000  612.000000  612.000000\n",
       "mean    45.516340    38.909941    2.557630  232.787813\n",
       "std     34.755372   144.336454    9.740796   56.763970\n",
       "min      4.000000     0.000000  -20.000000  114.000000\n",
       "25%     18.000000     0.000000    1.617564  198.000000\n",
       "50%     36.000000     0.000000    1.617564  253.140675\n",
       "75%     60.000000    21.000000    4.000000  253.140675\n",
       "max    218.000000  2527.000000   66.000000  636.000000"
      ]
     },
     "execution_count": 84,
     "metadata": {},
     "output_type": "execute_result"
    }
   ],
   "source": [
    "# смотрим объекты, на которых возникает ошибка по классу неотток\n",
    "X_test_frame_non_churn = X_test_frame.loc[index_non_churn_error]\n",
    "X_to_analyse2 = X_test_frame_non_churn[['Var19', 'Var21', 'Var37', 'Var57']]\n",
    "X_to_analyse2.describe()"
   ]
  },
  {
   "cell_type": "code",
   "execution_count": 85,
   "metadata": {
    "collapsed": false
   },
   "outputs": [
    {
     "data": {
      "text/plain": [
       "array([   4.,    6.,    8.,   10.,   12.,   14.,   16.,   18.,   20.,\n",
       "         22.,   24.,   26.,   28.,   30.,   32.,   34.,   36.,   38.,\n",
       "         40.,   42.,   44.,   46.,   48.,   50.,   52.,   54.,   56.,\n",
       "         58.,   60.,   62.,   64.,   66.,   68.,   70.,   72.,   74.,\n",
       "         76.,   78.,   80.,   82.,   84.,   86.,   88.,   90.,   92.,\n",
       "         94.,   96.,   98.,  100.,  102.,  104.,  106.,  108.,  110.,\n",
       "        112.,  114.,  116.,  118.,  120.,  124.,  126.,  128.,  130.,\n",
       "        132.,  134.,  136.,  140.,  146.,  150.,  154.,  156.,  162.,\n",
       "        192.,  198.,  218.])"
      ]
     },
     "execution_count": 85,
     "metadata": {},
     "output_type": "execute_result"
    }
   ],
   "source": [
    "np.unique(X_to_analyse2['Var19'])"
   ]
  },
  {
   "cell_type": "code",
   "execution_count": 74,
   "metadata": {
    "collapsed": false
   },
   "outputs": [
    {
     "data": {
      "text/plain": [
       "array([    0.        ,     7.        ,    14.        ,    21.        ,\n",
       "          28.        ,    35.        ,    42.        ,    49.        ,\n",
       "          56.        ,    63.        ,    70.        ,    80.99647234,\n",
       "          84.        ,    91.        ,    98.        ,   105.        ,\n",
       "         112.        ,   119.        ,   126.        ,   140.        ,\n",
       "         154.        ,   161.        ,   168.        ,   175.        ,\n",
       "         189.        ,   196.        ,   203.        ,   210.        ,\n",
       "         224.        ,   231.        ,   238.        ,   245.        ,\n",
       "         252.        ,   259.        ,   322.        ,   336.        ,\n",
       "         343.        ,   385.        ,   413.        ,   434.        ,\n",
       "         441.        ,   483.        ,   490.        ,   497.        ,\n",
       "         679.        ,   980.        ,  1092.        ,  1134.        ,\n",
       "        2527.        ])"
      ]
     },
     "execution_count": 74,
     "metadata": {},
     "output_type": "execute_result"
    }
   ],
   "source": [
    "np.unique(X_to_analyse2['Var21'])"
   ]
  },
  {
   "cell_type": "code",
   "execution_count": 86,
   "metadata": {
    "collapsed": false
   },
   "outputs": [
    {
     "data": {
      "text/plain": [
       "array([-20.        , -18.        , -14.        , -12.        ,\n",
       "       -10.        ,  -8.        ,  -6.        ,  -4.        ,\n",
       "        -2.        ,   0.        ,   1.61756446,   2.        ,\n",
       "         4.        ,   6.        ,   8.        ,  10.        ,\n",
       "        12.        ,  14.        ,  16.        ,  18.        ,\n",
       "        20.        ,  22.        ,  24.        ,  26.        ,\n",
       "        28.        ,  30.        ,  32.        ,  34.        ,\n",
       "        36.        ,  38.        ,  40.        ,  44.        ,\n",
       "        46.        ,  62.        ,  66.        ])"
      ]
     },
     "execution_count": 86,
     "metadata": {},
     "output_type": "execute_result"
    }
   ],
   "source": [
    "np.unique(X_to_analyse2['Var37'])"
   ]
  },
  {
   "cell_type": "code",
   "execution_count": 87,
   "metadata": {
    "collapsed": false
   },
   "outputs": [
    {
     "data": {
      "text/plain": [
       "array([ 114.        ,  120.        ,  126.        ,  132.        ,\n",
       "        138.        ,  144.        ,  150.        ,  156.        ,\n",
       "        162.        ,  168.        ,  174.        ,  180.        ,\n",
       "        186.        ,  192.        ,  198.        ,  204.        ,\n",
       "        210.        ,  216.        ,  222.        ,  228.        ,\n",
       "        234.        ,  240.        ,  246.        ,  252.        ,\n",
       "        253.14067524,  258.        ,  264.        ,  270.        ,\n",
       "        276.        ,  282.        ,  288.        ,  294.        ,\n",
       "        300.        ,  306.        ,  312.        ,  318.        ,\n",
       "        324.        ,  330.        ,  336.        ,  342.        ,\n",
       "        354.        ,  360.        ,  402.        ,  408.        ,\n",
       "        450.        ,  498.        ,  636.        ])"
      ]
     },
     "execution_count": 87,
     "metadata": {},
     "output_type": "execute_result"
    }
   ],
   "source": [
    "np.unique(X_to_analyse2['Var57'])"
   ]
  },
  {
   "cell_type": "code",
   "execution_count": 83,
   "metadata": {
    "collapsed": false
   },
   "outputs": [
    {
     "name": "stdout",
     "output_type": "stream",
     "text": [
      "75\n",
      "49\n",
      "35\n",
      "47\n"
     ]
    }
   ],
   "source": [
    "print (len(np.unique(X_to_analyse2['Var19'])))\n",
    "print (len(np.unique(X_to_analyse2['Var21'])))\n",
    "print (len(np.unique(X_to_analyse2['Var37'])))\n",
    "print (len(np.unique(X_to_analyse2['Var57'])))"
   ]
  },
  {
   "cell_type": "markdown",
   "metadata": {},
   "source": [
    "Значения данных признаков на ошибках класса неотток практически сопоставимо со значениями аналогичных признаков на ошибках класса отток. \n",
    "1. Значения Var19 практически представляют собой арифметическую прогрессию с шагом 2\n",
    "2. Значения Var21 практически представляют собой арифметическую прогрессию с шагом 7\n",
    "3. Значения Var37 практически представляют собой арифметическую прогрессию с шагом 2, но с минимальным значением -20\n",
    "4. Значения Var57 практически представляют собой арифметическую прогрессию с шагом 6"
   ]
  },
  {
   "cell_type": "code",
   "execution_count": 76,
   "metadata": {
    "collapsed": false
   },
   "outputs": [
    {
     "data": {
      "text/plain": [
       "array([[<matplotlib.axes._subplots.AxesSubplot object at 0x0000000026D096A0>,\n",
       "        <matplotlib.axes._subplots.AxesSubplot object at 0x0000000027350080>],\n",
       "       [<matplotlib.axes._subplots.AxesSubplot object at 0x0000000026E9FE10>,\n",
       "        <matplotlib.axes._subplots.AxesSubplot object at 0x00000000273BB128>]], dtype=object)"
      ]
     },
     "execution_count": 76,
     "metadata": {},
     "output_type": "execute_result"
    },
    {
     "data": {
      "image/png": "[encoded data removed]",
      "text/plain": [
       "<matplotlib.figure.Figure at 0x272c1048>"
      ]
     },
     "metadata": {},
     "output_type": "display_data"
    }
   ],
   "source": [
    "X_to_analyse2.hist(bins=100, figsize = [20,20])"
   ]
  },
  {
   "cell_type": "markdown",
   "metadata": {},
   "source": [
    "9\\. По итогам проведенных экспериментов постройте финальную решение - модель с наилучшим качеством. Укажите, какие преобразования данных, параметры и пр. вы выбрали для построения финальной модели."
   ]
  },
  {
   "cell_type": "markdown",
   "metadata": {
    "collapsed": true
   },
   "source": [
    "Преобразования для финальной модели описаны и проведены в пункте 6. Напомним их:\n",
    "\n",
    "1. Балансировка классов методом undersampling (с одинаковыми долями каждого класса)\n",
    "2. Заполнение пропущенных вещественных значений на средние по столбцам\n",
    "3. Обработка категориальных признаков DictVectorizer'ом\n",
    "4. Отбор признаков с использованием решающего дерева\n",
    "5. Окончательный отбор признаков с помощью метода feature_importances_\n",
    "6. Подбор параметров по сетке (перебор количества эстиматоров и максимальной глубины дерева)\n",
    "7. В итоге получилась модель градиентного бустинга на 70 деревьев с макс глубиной 3"
   ]
  },
  {
   "cell_type": "markdown",
   "metadata": {},
   "source": [
    "10\\. Подумайте, можно ли еще улучшить модель? Что для этого можно сделать? "
   ]
  },
  {
   "cell_type": "markdown",
   "metadata": {
    "collapsed": true
   },
   "source": [
    "Можно попробовать отмасштабировать признаки (но в случае градиентного бустинга это не сильно изменить качество модели), а также их нормализовать"
   ]
  }
 ],
 "metadata": {
  "anaconda-cloud": {},
  "kernelspec": {
   "display_name": "Python [conda env:tensorflow]",
   "language": "python",
   "name": "conda-env-tensorflow-py"
  },
  "language_info": {
   "codemirror_mode": {
    "name": "ipython",
    "version": 3
   },
   "file_extension": ".py",
   "mimetype": "text/x-python",
   "name": "python",
   "nbconvert_exporter": "python",
   "pygments_lexer": "ipython3",
   "version": "3.5.3"
  }
 },
 "nbformat": 4,
 "nbformat_minor": 1
}
