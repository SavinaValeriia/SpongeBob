{
 "cells": [
  {
   "cell_type": "code",
   "execution_count": 1,
   "metadata": {
    "collapsed": true
   },
   "outputs": [],
   "source": [
    "import numpy as np\n",
    "import pandas as pd\n",
    "import sklearn as sk\n",
    "import seaborn as sns\n",
    "from matplotlib import pyplot as plt\n",
    "%matplotlib inline"
   ]
  },
  {
   "cell_type": "code",
   "execution_count": 4,
   "metadata": {
    "collapsed": false
   },
   "outputs": [
    {
     "data": {
      "text/plain": [
       "(418, 11)"
      ]
     },
     "execution_count": 4,
     "metadata": {},
     "output_type": "execute_result"
    }
   ],
   "source": [
    "#loading data\n",
    "test_data = pd.read_csv(\"C:\\Users\\horch\\Desktop\\Data mining\\Titanic\\_test.csv\")\n",
    "train_data = pd.read_csv(\"C:\\Users\\horch\\Desktop\\Data mining\\Titanic\\_train.csv\")\n",
    "data = pd.concat([train_data, test_data])\n",
    "test_data.shape"
   ]
  },
  {
   "cell_type": "code",
   "execution_count": 5,
   "metadata": {
    "collapsed": false
   },
   "outputs": [],
   "source": [
    "#добавляем колонку с титулами\n",
    "S = []\n",
    "T = []\n",
    "title = []\n",
    "for i in xrange(len(data['Name'])):\n",
    "    S.append(str(np.array(data['Name'])[i]).split(','))\n",
    "    T.append(str(S[i][1]).split('.'))\n",
    "    title.append(T[i][0])\n",
    "title = pd.DataFrame(title, columns = ['Title'])\n",
    "data_new = data.join(title).sort_values(by = 'PassengerId')"
   ]
  },
  {
   "cell_type": "code",
   "execution_count": 6,
   "metadata": {
    "collapsed": false,
    "scrolled": true
   },
   "outputs": [
    {
     "data": {
      "text/html": [
       "<div>\n",
       "<table border=\"1\" class=\"dataframe\">\n",
       "  <thead>\n",
       "    <tr style=\"text-align: right;\">\n",
       "      <th></th>\n",
       "      <th>Age</th>\n",
       "      <th>Cabin</th>\n",
       "      <th>Embarked</th>\n",
       "      <th>Fare</th>\n",
       "      <th>Name</th>\n",
       "      <th>Parch</th>\n",
       "      <th>PassengerId</th>\n",
       "      <th>Pclass</th>\n",
       "      <th>Sex</th>\n",
       "      <th>SibSp</th>\n",
       "      <th>Survived</th>\n",
       "      <th>Ticket</th>\n",
       "      <th>Title</th>\n",
       "    </tr>\n",
       "  </thead>\n",
       "  <tbody>\n",
       "    <tr>\n",
       "      <th>152</th>\n",
       "      <td>60.5</td>\n",
       "      <td>NaN</td>\n",
       "      <td>S</td>\n",
       "      <td>8.0500</td>\n",
       "      <td>Storey, Mr. Thomas</td>\n",
       "      <td>0</td>\n",
       "      <td>1044</td>\n",
       "      <td>3</td>\n",
       "      <td>male</td>\n",
       "      <td>0</td>\n",
       "      <td>NaN</td>\n",
       "      <td>3701</td>\n",
       "      <td>Mr</td>\n",
       "    </tr>\n",
       "    <tr>\n",
       "      <th>153</th>\n",
       "      <td>36.0</td>\n",
       "      <td>NaN</td>\n",
       "      <td>S</td>\n",
       "      <td>12.1833</td>\n",
       "      <td>Klasen, Mrs. (Hulda Kristina Eugenia Lofqvist)</td>\n",
       "      <td>2</td>\n",
       "      <td>1045</td>\n",
       "      <td>3</td>\n",
       "      <td>female</td>\n",
       "      <td>0</td>\n",
       "      <td>NaN</td>\n",
       "      <td>350405</td>\n",
       "      <td>Mr</td>\n",
       "    </tr>\n",
       "    <tr>\n",
       "      <th>154</th>\n",
       "      <td>13.0</td>\n",
       "      <td>NaN</td>\n",
       "      <td>S</td>\n",
       "      <td>31.3875</td>\n",
       "      <td>Asplund, Master. Filip Oscar</td>\n",
       "      <td>2</td>\n",
       "      <td>1046</td>\n",
       "      <td>3</td>\n",
       "      <td>male</td>\n",
       "      <td>4</td>\n",
       "      <td>NaN</td>\n",
       "      <td>347077</td>\n",
       "      <td>Mr</td>\n",
       "    </tr>\n",
       "    <tr>\n",
       "      <th>155</th>\n",
       "      <td>24.0</td>\n",
       "      <td>NaN</td>\n",
       "      <td>S</td>\n",
       "      <td>7.5500</td>\n",
       "      <td>Duquemin, Mr. Joseph</td>\n",
       "      <td>0</td>\n",
       "      <td>1047</td>\n",
       "      <td>3</td>\n",
       "      <td>male</td>\n",
       "      <td>0</td>\n",
       "      <td>NaN</td>\n",
       "      <td>S.O./P.P. 752</td>\n",
       "      <td>Mr</td>\n",
       "    </tr>\n",
       "  </tbody>\n",
       "</table>\n",
       "</div>"
      ],
      "text/plain": [
       "      Age Cabin Embarked     Fare  \\\n",
       "152  60.5   NaN        S   8.0500   \n",
       "153  36.0   NaN        S  12.1833   \n",
       "154  13.0   NaN        S  31.3875   \n",
       "155  24.0   NaN        S   7.5500   \n",
       "\n",
       "                                               Name  Parch  PassengerId  \\\n",
       "152                              Storey, Mr. Thomas      0         1044   \n",
       "153  Klasen, Mrs. (Hulda Kristina Eugenia Lofqvist)      2         1045   \n",
       "154                    Asplund, Master. Filip Oscar      2         1046   \n",
       "155                            Duquemin, Mr. Joseph      0         1047   \n",
       "\n",
       "     Pclass     Sex  SibSp  Survived         Ticket Title  \n",
       "152       3    male      0       NaN           3701    Mr  \n",
       "153       3  female      0       NaN         350405    Mr  \n",
       "154       3    male      4       NaN         347077    Mr  \n",
       "155       3    male      0       NaN  S.O./P.P. 752    Mr  "
      ]
     },
     "execution_count": 6,
     "metadata": {},
     "output_type": "execute_result"
    }
   ],
   "source": [
    "#Заполняем NA в возрасте и порте отправки\n",
    "def fillna_age(train):\n",
    "    for i in [train]:\n",
    "        i['Age'] = train.groupby('Title')['Age'].transform(lambda x: x.fillna(x.median()))\n",
    "    return train\n",
    "data_new = fillna_age(data_new)\n",
    "#заполнили NA в порту отправки большинством\n",
    "data_new['Embarked'] = data_new['Embarked'].fillna('S')\n",
    "data_new['Fare'] = data_new['Fare'].fillna(0.)\n",
    "# заполнили нулевой тариф медианами по классам \n",
    "for i in xrange(len(data_new['Fare'].values)):\n",
    "    if data_new['Fare'].values[i] == 0.:\n",
    "        if data_new['Pclass'].values[i] == 1:\n",
    "            data_new['Fare'].values[i] = data_new.groupby('Pclass')['Fare'].median()[1]\n",
    "        if data_new['Pclass'].values[i] == 2:\n",
    "            data_new['Fare'].values[i] = data_new.groupby('Pclass')['Fare'].median()[2]\n",
    "        if data_new['Pclass'].values[i] == 3:\n",
    "            data_new['Fare'].values[i] = data_new.groupby('Pclass')['Fare'].median()[3]\n",
    "            \n",
    "data_new[1043:1047]            "
   ]
  },
  {
   "cell_type": "code",
   "execution_count": 44,
   "metadata": {
    "collapsed": false
   },
   "outputs": [],
   "source": [
    "#вводим колонку \"семья\", агрегирующую родственников \n",
    "data_new['Family'] = data_new['Parch'] + data_new['SibSp']\n",
    "\n",
    "#вводим колонку наличие родственников в принципе\n",
    "data_new['isFamily'] = data_new['Family']\n",
    "for i in xrange(len(data_new['Family'])):\n",
    "    if data_new['Family'].values[i] > 0:\n",
    "        data_new['isFamily'].values[i] = 1\n",
    "    else: data_new['isFamily'].values[i] = 0\n",
    "        \n",
    "# кодируем пол\n",
    "data_new['Male'] = data_new['Sex']\n",
    "data_new['Female'] = data_new['Sex']\n",
    "for i in xrange(len(data_new['Sex'])):\n",
    "    if data_new['Sex'].values[i] == 'male':\n",
    "        data_new['Male'].values[i] = 1\n",
    "    else: data_new['Male'].values[i] = 0\n",
    "    if data_new['Male'].values[i] == 0:\n",
    "        data_new['Female'].values[i] = 1\n",
    "    else: data_new['Female'].values[i] = 0            \n",
    "\n",
    "# кодируем наличие кабины\n",
    "data_new['isCabin'] = data_new['Cabin'].fillna(0)\n",
    "for i in xrange(len(data_new['Cabin'])):\n",
    "    if data_new['Cabin'].values[i] >0:\n",
    "        data_new['isCabin'].values[i] = 1\n",
    "    else: data_new['isCabin'].values[i] = 0        "
   ]
  },
  {
   "cell_type": "code",
   "execution_count": 6,
   "metadata": {
    "collapsed": false
   },
   "outputs": [],
   "source": [
    "from sklearn.feature_extraction import DictVectorizer as DV"
   ]
  },
  {
   "cell_type": "code",
   "execution_count": 45,
   "metadata": {
    "collapsed": false
   },
   "outputs": [],
   "source": [
    "num_cols = ['Pclass', 'Age', 'Fare', 'Family', 'isFamily'] # вещественные признаки для отбора в модель\n",
    "cat_cols = ['Male', 'Female', 'isCabin', 'enEmbarked_C', 'enEmbarked_Q', 'enEmbarked_S', 'Capt', 'Col', 'Don', 'Dr', \n",
    "            'Jonkheer', 'Lady', 'Major', 'Master', 'Miss', 'Mlle', \n",
    "              'Mme', 'Mr', 'Mrs', 'Ms', 'Rev', 'Sir', 'the Countess', 'unknown' \n",
    "           ]# категориальные признаки для отбора в модель"
   ]
  },
  {
   "cell_type": "code",
   "execution_count": 46,
   "metadata": {
    "collapsed": false
   },
   "outputs": [
    {
     "data": {
      "text/plain": [
       "array([ 0.,  0.,  0.,  0.,  0.,  0.,  0.,  0.,  0.,  0.,  0.,  0.,  1.,\n",
       "        0.,  0.,  0.,  0.,  0.])"
      ]
     },
     "execution_count": 46,
     "metadata": {},
     "output_type": "execute_result"
    }
   ],
   "source": [
    "embarked = data_new['Embarked'].values\n",
    "for i in xrange(len(embarked)):\n",
    "    s = embarked[i]\n",
    "    embarked[i] = str(s)       \n",
    "encoder = DV(sparse = False)\n",
    "embarked_encoded = encoder.fit_transform(pd.DataFrame(embarked).T.to_dict().values())# закодировали ембаркед\n",
    "title_encoded = encoder.fit_transform(title.T.to_dict().values())# закодировали титул\n",
    "title_encoded[0]"
   ]
  },
  {
   "cell_type": "code",
   "execution_count": 47,
   "metadata": {
    "collapsed": false
   },
   "outputs": [],
   "source": [
    "enEmbarked = pd.DataFrame(embarked_encoded, columns = [['enEmbarked_C','enEmbarked_Q', 'enEmbarked_S']])\n",
    "enTitle = pd.DataFrame(title_encoded, columns = [['Capt', 'Col', 'Don', 'Dr', \n",
    "            'Jonkheer', 'Lady', 'Major', 'Master', 'Miss', 'Mlle', \n",
    "              'Mme', 'Mr', 'Mrs', 'Ms', 'Rev', 'Sir', 'the Countess', 'unknown']] )\n",
    "data_new = data_new.join(enEmbarked).join(enTitle).sort_values(by = 'PassengerId')\n",
    "data_to_class = data_new[cat_cols+num_cols] #итоговая таблица!!!"
   ]
  },
  {
   "cell_type": "code",
   "execution_count": 48,
   "metadata": {
    "collapsed": false
   },
   "outputs": [
    {
     "name": "stdout",
     "output_type": "stream",
     "text": [
      "<class 'pandas.core.frame.DataFrame'>\n",
      "Int64Index: 418 entries, 0 to 417\n",
      "Data columns (total 29 columns):\n",
      "Male            418 non-null object\n",
      "Female          418 non-null object\n",
      "isCabin         418 non-null object\n",
      "enEmbarked_C    418 non-null float64\n",
      "enEmbarked_Q    418 non-null float64\n",
      "enEmbarked_S    418 non-null float64\n",
      "Capt            418 non-null float64\n",
      "Col             418 non-null float64\n",
      "Don             418 non-null float64\n",
      "Dr              418 non-null float64\n",
      "Jonkheer        418 non-null float64\n",
      "Lady            418 non-null float64\n",
      "Major           418 non-null float64\n",
      "Master          418 non-null float64\n",
      "Miss            418 non-null float64\n",
      "Mlle            418 non-null float64\n",
      "Mme             418 non-null float64\n",
      "Mr              418 non-null float64\n",
      "Mrs             418 non-null float64\n",
      "Ms              418 non-null float64\n",
      "Rev             418 non-null float64\n",
      "Sir             418 non-null float64\n",
      "the Countess    418 non-null float64\n",
      "unknown         418 non-null float64\n",
      "Pclass          418 non-null int64\n",
      "Age             418 non-null float64\n",
      "Fare            418 non-null float64\n",
      "Family          418 non-null int64\n",
      "isFamily        418 non-null int64\n",
      "dtypes: float64(23), int64(3), object(3)\n",
      "memory usage: 98.0+ KB\n"
     ]
    }
   ],
   "source": [
    "#делим на обучение и тест\n",
    "train_data_to_class = data_to_class[:891]\n",
    "test_data_to_class = data_to_class[891:]\n",
    "train_labels = data['Survived'][:891]"
   ]
  },
  {
   "cell_type": "code",
   "execution_count": 57,
   "metadata": {
    "collapsed": false
   },
   "outputs": [
    {
     "data": {
      "text/plain": [
       "0.8329608938547487"
      ]
     },
     "execution_count": 57,
     "metadata": {},
     "output_type": "execute_result"
    }
   ],
   "source": [
    "#создаем рандомный лес\n",
    "from sklearn import ensemble, cross_validation, metrics, grid_search\n",
    "\n",
    "\n",
    "cv = cross_validation.StratifiedShuffleSplit(train_labels, n_iter = 10, test_size = 0.2, random_state = 0)\n",
    "classifier = ensemble.RandomForestClassifier(random_state = 0, n_estimators = 500, max_depth = 10, min_samples_split=8, min_samples_leaf=2)\n",
    "cross_validation.cross_val_score(classifier, train_data_to_class, train_labels, cv=cv).mean()"
   ]
  },
  {
   "cell_type": "code",
   "execution_count": 58,
   "metadata": {
    "collapsed": false
   },
   "outputs": [],
   "source": [
    "classifier.fit(train_data_to_class, train_labels)\n",
    "predictions = classifier.predict(test_data_to_class)"
   ]
  },
  {
   "cell_type": "code",
   "execution_count": 3,
   "metadata": {
    "collapsed": false
   },
   "outputs": [
    {
     "ename": "NameError",
     "evalue": "name 'predictions' is not defined",
     "output_type": "error",
     "traceback": [
      "\u001b[0;31m---------------------------------------------------------------------------\u001b[0m",
      "\u001b[0;31mNameError\u001b[0m                                 Traceback (most recent call last)",
      "\u001b[0;32m<ipython-input-3-48d37991b567>\u001b[0m in \u001b[0;36m<module>\u001b[0;34m()\u001b[0m\n\u001b[0;32m----> 1\u001b[0;31m \u001b[0msubmission\u001b[0m \u001b[1;33m=\u001b[0m \u001b[0mpd\u001b[0m\u001b[1;33m.\u001b[0m\u001b[0mDataFrame\u001b[0m\u001b[1;33m(\u001b[0m\u001b[1;33m{\u001b[0m\u001b[1;34m\"PassengerId\"\u001b[0m\u001b[1;33m:\u001b[0m \u001b[0mtest_data\u001b[0m\u001b[1;33m[\u001b[0m\u001b[1;34m\"PassengerId\"\u001b[0m\u001b[1;33m]\u001b[0m\u001b[1;33m,\u001b[0m\u001b[1;34m\"Survived\"\u001b[0m\u001b[1;33m:\u001b[0m \u001b[0mpredictions\u001b[0m\u001b[1;33m}\u001b[0m\u001b[1;33m)\u001b[0m\u001b[1;33m\u001b[0m\u001b[0m\n\u001b[0m\u001b[1;32m      2\u001b[0m \u001b[0msubmission\u001b[0m\u001b[1;33m.\u001b[0m\u001b[0mto_csv\u001b[0m\u001b[1;33m(\u001b[0m\u001b[1;34m\"titanic-submission.csv\"\u001b[0m\u001b[1;33m,\u001b[0m \u001b[0mindex\u001b[0m\u001b[1;33m=\u001b[0m\u001b[0mFalse\u001b[0m\u001b[1;33m)\u001b[0m\u001b[1;33m\u001b[0m\u001b[0m\n\u001b[1;32m      3\u001b[0m \u001b[1;31m#pd.DataFrame(classifier.predict(test_data_to_class)).to_csv('result.csv', sep=',', header=False, index=False)\u001b[0m\u001b[1;33m\u001b[0m\u001b[1;33m\u001b[0m\u001b[0m\n",
      "\u001b[0;31mNameError\u001b[0m: name 'predictions' is not defined"
     ]
    }
   ],
   "source": [
    "submission = pd.DataFrame({\"PassengerId\": test_data[\"PassengerId\"],\"Survived\": predictions})\n",
    "submission.to_csv(\"titanic-submission.csv\", index=False)\n",
    "#pd.DataFrame(classifier.predict(test_data_to_class)).to_csv('result.csv', sep=',', header=False, index=False)"
   ]
  }
 ],
 "metadata": {
  "anaconda-cloud": {},
  "kernelspec": {
   "display_name": "Python [default]",
   "language": "python",
   "name": "python2"
  },
  "language_info": {
   "codemirror_mode": {
    "name": "ipython",
    "version": 2
   },
   "file_extension": ".py",
   "mimetype": "text/x-python",
   "name": "python",
   "nbconvert_exporter": "python",
   "pygments_lexer": "ipython2",
   "version": "2.7.12"
  }
 },
 "nbformat": 4,
 "nbformat_minor": 1
}
